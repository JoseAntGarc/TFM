{
  "cells": [
    {
      "cell_type": "markdown",
      "metadata": {
        "id": "t0O-FOLDPkU7"
      },
      "source": [
        "#Preprocesmamiento de datos.\n",
        "\n",
        "En esta parte se selecciona el conjunto de datos y se realiza construye un corpus para poder trabajar de forma adecuada en nuestro proyecto.\n"
      ]
    },
    {
      "cell_type": "code",
      "execution_count": null,
      "metadata": {
        "colab": {
          "base_uri": "https://localhost:8080/"
        },
        "id": "36k9SF3cOlDV",
        "outputId": "78f5c40d-8259-45ae-8b16-2a336dea532a"
      },
      "outputs": [
        {
          "name": "stdout",
          "output_type": "stream",
          "text": [
            "Looking in indexes: https://pypi.org/simple, https://us-python.pkg.dev/colab-wheels/public/simple/\n",
            "Collecting html2text\n",
            "  Downloading html2text-2020.1.16-py3-none-any.whl (32 kB)\n",
            "Installing collected packages: html2text\n",
            "Successfully installed html2text-2020.1.16\n"
          ]
        }
      ],
      "source": [
        "!pip3 install html2text "
      ]
    },
    {
      "cell_type": "code",
      "execution_count": null,
      "metadata": {
        "id": "HS7TSLatQAYu"
      },
      "outputs": [],
      "source": [
        "def convierteFecha(fecha):\n",
        "  fecha = fecha.split(\"T\")\n",
        "  fecha[1] = fecha[1].replace('.',' ')\n",
        "  fecha[1] = fecha[1].split(\" \")\n",
        "  date = fecha[0]\n",
        "  hora = fecha[1][0]\n",
        "  fechaFin = date + \" \" + hora\n",
        "  return fechaFin "
      ]
    },
    {
      "cell_type": "code",
      "execution_count": null,
      "metadata": {
        "colab": {
          "base_uri": "https://localhost:8080/",
          "height": 441
        },
        "id": "LqsRaCF2QH2a",
        "outputId": "145690e0-7901-4026-e8ca-3e5c13e693f7"
      },
      "outputs": [
        {
          "data": {
            "text/html": [
              "\n",
              "  <div id=\"df-3fbb6d09-5cf8-4ad9-b816-bdb6e5dd2ded\">\n",
              "    <div class=\"colab-df-container\">\n",
              "      <div>\n",
              "<style scoped>\n",
              "    .dataframe tbody tr th:only-of-type {\n",
              "        vertical-align: middle;\n",
              "    }\n",
              "\n",
              "    .dataframe tbody tr th {\n",
              "        vertical-align: top;\n",
              "    }\n",
              "\n",
              "    .dataframe thead th {\n",
              "        text-align: right;\n",
              "    }\n",
              "</style>\n",
              "<table border=\"1\" class=\"dataframe\">\n",
              "  <thead>\n",
              "    <tr style=\"text-align: right;\">\n",
              "      <th></th>\n",
              "      <th>Id</th>\n",
              "      <th>PostTypeId</th>\n",
              "      <th>AcceptedAnswerId</th>\n",
              "      <th>ParentId</th>\n",
              "      <th>Title</th>\n",
              "      <th>Body</th>\n",
              "      <th>CreationDate</th>\n",
              "      <th>Score</th>\n",
              "      <th>AnswerCount</th>\n",
              "      <th>Archivo</th>\n",
              "    </tr>\n",
              "  </thead>\n",
              "  <tbody>\n",
              "    <tr>\n",
              "      <th>0</th>\n",
              "      <td>1</td>\n",
              "      <td>1</td>\n",
              "      <td>3</td>\n",
              "      <td></td>\n",
              "      <td>What is \"backprop\"?</td>\n",
              "      <td>What does \"backprop\" mean? Is the \"backprop\" t...</td>\n",
              "      <td>2016-08-02 15:39:14</td>\n",
              "      <td>10</td>\n",
              "      <td>5</td>\n",
              "      <td>Posts1</td>\n",
              "    </tr>\n",
              "    <tr>\n",
              "      <th>1</th>\n",
              "      <td>2</td>\n",
              "      <td>1</td>\n",
              "      <td>9</td>\n",
              "      <td></td>\n",
              "      <td>How does noise affect generalization?</td>\n",
              "      <td>Does increasing the noise in data help to impr...</td>\n",
              "      <td>2016-08-02 15:40:20</td>\n",
              "      <td>14</td>\n",
              "      <td>3</td>\n",
              "      <td>Posts1</td>\n",
              "    </tr>\n",
              "    <tr>\n",
              "      <th>2</th>\n",
              "      <td>3</td>\n",
              "      <td>2</td>\n",
              "      <td></td>\n",
              "      <td>1</td>\n",
              "      <td></td>\n",
              "      <td>\"Backprop\" is the same as \"backpropagation\": i...</td>\n",
              "      <td>2016-08-02 15:40:24</td>\n",
              "      <td>15</td>\n",
              "      <td></td>\n",
              "      <td>Posts1</td>\n",
              "    </tr>\n",
              "    <tr>\n",
              "      <th>3</th>\n",
              "      <td>4</td>\n",
              "      <td>1</td>\n",
              "      <td>12</td>\n",
              "      <td></td>\n",
              "      <td>How to find the optimal number of neurons per ...</td>\n",
              "      <td>When you're writing your algorithm, how do you...</td>\n",
              "      <td>2016-08-02 15:41:22</td>\n",
              "      <td>33</td>\n",
              "      <td>4</td>\n",
              "      <td>Posts1</td>\n",
              "    </tr>\n",
              "    <tr>\n",
              "      <th>4</th>\n",
              "      <td>6</td>\n",
              "      <td>1</td>\n",
              "      <td>20</td>\n",
              "      <td></td>\n",
              "      <td>Are humans intelligent according to the defini...</td>\n",
              "      <td>Given the following definition of an intellige...</td>\n",
              "      <td>2016-08-02 15:43:35</td>\n",
              "      <td>7</td>\n",
              "      <td>2</td>\n",
              "      <td>Posts1</td>\n",
              "    </tr>\n",
              "  </tbody>\n",
              "</table>\n",
              "</div>\n",
              "      <button class=\"colab-df-convert\" onclick=\"convertToInteractive('df-3fbb6d09-5cf8-4ad9-b816-bdb6e5dd2ded')\"\n",
              "              title=\"Convert this dataframe to an interactive table.\"\n",
              "              style=\"display:none;\">\n",
              "        \n",
              "  <svg xmlns=\"http://www.w3.org/2000/svg\" height=\"24px\"viewBox=\"0 0 24 24\"\n",
              "       width=\"24px\">\n",
              "    <path d=\"M0 0h24v24H0V0z\" fill=\"none\"/>\n",
              "    <path d=\"M18.56 5.44l.94 2.06.94-2.06 2.06-.94-2.06-.94-.94-2.06-.94 2.06-2.06.94zm-11 1L8.5 8.5l.94-2.06 2.06-.94-2.06-.94L8.5 2.5l-.94 2.06-2.06.94zm10 10l.94 2.06.94-2.06 2.06-.94-2.06-.94-.94-2.06-.94 2.06-2.06.94z\"/><path d=\"M17.41 7.96l-1.37-1.37c-.4-.4-.92-.59-1.43-.59-.52 0-1.04.2-1.43.59L10.3 9.45l-7.72 7.72c-.78.78-.78 2.05 0 2.83L4 21.41c.39.39.9.59 1.41.59.51 0 1.02-.2 1.41-.59l7.78-7.78 2.81-2.81c.8-.78.8-2.07 0-2.86zM5.41 20L4 18.59l7.72-7.72 1.47 1.35L5.41 20z\"/>\n",
              "  </svg>\n",
              "      </button>\n",
              "      \n",
              "  <style>\n",
              "    .colab-df-container {\n",
              "      display:flex;\n",
              "      flex-wrap:wrap;\n",
              "      gap: 12px;\n",
              "    }\n",
              "\n",
              "    .colab-df-convert {\n",
              "      background-color: #E8F0FE;\n",
              "      border: none;\n",
              "      border-radius: 50%;\n",
              "      cursor: pointer;\n",
              "      display: none;\n",
              "      fill: #1967D2;\n",
              "      height: 32px;\n",
              "      padding: 0 0 0 0;\n",
              "      width: 32px;\n",
              "    }\n",
              "\n",
              "    .colab-df-convert:hover {\n",
              "      background-color: #E2EBFA;\n",
              "      box-shadow: 0px 1px 2px rgba(60, 64, 67, 0.3), 0px 1px 3px 1px rgba(60, 64, 67, 0.15);\n",
              "      fill: #174EA6;\n",
              "    }\n",
              "\n",
              "    [theme=dark] .colab-df-convert {\n",
              "      background-color: #3B4455;\n",
              "      fill: #D2E3FC;\n",
              "    }\n",
              "\n",
              "    [theme=dark] .colab-df-convert:hover {\n",
              "      background-color: #434B5C;\n",
              "      box-shadow: 0px 1px 3px 1px rgba(0, 0, 0, 0.15);\n",
              "      filter: drop-shadow(0px 1px 2px rgba(0, 0, 0, 0.3));\n",
              "      fill: #FFFFFF;\n",
              "    }\n",
              "  </style>\n",
              "\n",
              "      <script>\n",
              "        const buttonEl =\n",
              "          document.querySelector('#df-3fbb6d09-5cf8-4ad9-b816-bdb6e5dd2ded button.colab-df-convert');\n",
              "        buttonEl.style.display =\n",
              "          google.colab.kernel.accessAllowed ? 'block' : 'none';\n",
              "\n",
              "        async function convertToInteractive(key) {\n",
              "          const element = document.querySelector('#df-3fbb6d09-5cf8-4ad9-b816-bdb6e5dd2ded');\n",
              "          const dataTable =\n",
              "            await google.colab.kernel.invokeFunction('convertToInteractive',\n",
              "                                                     [key], {});\n",
              "          if (!dataTable) return;\n",
              "\n",
              "          const docLinkHtml = 'Like what you see? Visit the ' +\n",
              "            '<a target=\"_blank\" href=https://colab.research.google.com/notebooks/data_table.ipynb>data table notebook</a>'\n",
              "            + ' to learn more about interactive tables.';\n",
              "          element.innerHTML = '';\n",
              "          dataTable['output_type'] = 'display_data';\n",
              "          await google.colab.output.renderOutput(dataTable, element);\n",
              "          const docLink = document.createElement('div');\n",
              "          docLink.innerHTML = docLinkHtml;\n",
              "          element.appendChild(docLink);\n",
              "        }\n",
              "      </script>\n",
              "    </div>\n",
              "  </div>\n",
              "  "
            ],
            "text/plain": [
              "  Id PostTypeId AcceptedAnswerId ParentId  \\\n",
              "0  1          1                3            \n",
              "1  2          1                9            \n",
              "2  3          2                         1   \n",
              "3  4          1               12            \n",
              "4  6          1               20            \n",
              "\n",
              "                                               Title  \\\n",
              "0                                What is \"backprop\"?   \n",
              "1              How does noise affect generalization?   \n",
              "2                                                      \n",
              "3  How to find the optimal number of neurons per ...   \n",
              "4  Are humans intelligent according to the defini...   \n",
              "\n",
              "                                                Body         CreationDate  \\\n",
              "0  What does \"backprop\" mean? Is the \"backprop\" t...  2016-08-02 15:39:14   \n",
              "1  Does increasing the noise in data help to impr...  2016-08-02 15:40:20   \n",
              "2  \"Backprop\" is the same as \"backpropagation\": i...  2016-08-02 15:40:24   \n",
              "3  When you're writing your algorithm, how do you...  2016-08-02 15:41:22   \n",
              "4  Given the following definition of an intellige...  2016-08-02 15:43:35   \n",
              "\n",
              "  Score AnswerCount Archivo  \n",
              "0    10           5  Posts1  \n",
              "1    14           3  Posts1  \n",
              "2    15              Posts1  \n",
              "3    33           4  Posts1  \n",
              "4     7           2  Posts1  "
            ]
          },
          "execution_count": 3,
          "metadata": {},
          "output_type": "execute_result"
        }
      ],
      "source": [
        "import pandas as pd\n",
        "from xml.dom import minidom\n",
        "import html2text\n",
        "\n",
        "h = html2text.HTML2Text()\n",
        "\n",
        "h.ignore_links = True\n",
        "h.ignore_images = True\n",
        "\n",
        "try:\n",
        "  doc1 = minidom.parse(\"Posts1.xml\")\n",
        "  doc2 = minidom.parse(\"Posts2.xml\")\n",
        "except:\n",
        "   print(\"error\")\n",
        "\n",
        "df = pd.DataFrame(columns=['Id', 'PostTypeId','AcceptedAnswerId', 'ParentId','Title','Body','CreationDate','Score','AnswerCount','Archivo'])\n",
        "\n",
        "rows1 = doc1.getElementsByTagName(\"row\")\n",
        "rows2 = doc2.getElementsByTagName(\"row\")\n",
        "#rows = rows1 + rows2\n",
        "for row in rows1:\n",
        "    id = row.getAttribute(\"Id\")\n",
        "    PostTypeId = row.getAttribute(\"PostTypeId\")\n",
        "    CreationDate = row.getAttribute(\"CreationDate\")\n",
        "    Body = row.getAttribute(\"Body\")\n",
        "    Title = row.getAttribute(\"Title\")\n",
        "    ParentId = row.getAttribute(\"ParentId\")\n",
        "    AcceptedAnswerId = row.getAttribute(\"AcceptedAnswerId\")\n",
        "    Score = row.getAttribute(\"Score\")\n",
        "    AnswerCount = row.getAttribute(\"AnswerCount\")\n",
        "    Archivo = 'Posts1'\n",
        "    df = df.append({'Id': id, 'PostTypeId':PostTypeId, 'AcceptedAnswerId':AcceptedAnswerId,\n",
        "                    'ParentId':ParentId,'Title':Title, 'Body': h.handle(Body) ,'CreationDate':convierteFecha(CreationDate),'AnswerCount': AnswerCount,'Archivo': Archivo,'Score':Score }, ignore_index=True)\n",
        "\n",
        "for row in rows2:\n",
        "    id = row.getAttribute(\"Id\")\n",
        "    PostTypeId = row.getAttribute(\"PostTypeId\")\n",
        "    CreationDate = row.getAttribute(\"CreationDate\")\n",
        "    Body = row.getAttribute(\"Body\")\n",
        "    Title = row.getAttribute(\"Title\")\n",
        "    ParentId = row.getAttribute(\"ParentId\")\n",
        "    AcceptedAnswerId = row.getAttribute(\"AcceptedAnswerId\")\n",
        "    Score = row.getAttribute(\"Score\")\n",
        "    AnswerCount = row.getAttribute(\"AnswerCount\")\n",
        "    Archivo = 'Posts2'\n",
        "    df = df.append({'Id': id, 'PostTypeId':PostTypeId, 'AcceptedAnswerId':AcceptedAnswerId,\n",
        "                    'ParentId':ParentId,'Title':Title, 'Body': h.handle(Body) ,'CreationDate':convierteFecha(CreationDate),'AnswerCount': AnswerCount,'Archivo': Archivo,'Score':Score }, ignore_index=True)\n",
        "\n",
        "\n",
        "df['Body'] = df['Body'].apply(lambda x: x.replace('\\n',''))\n",
        "\n",
        "df.head()"
      ]
    },
    {
      "cell_type": "markdown",
      "metadata": {
        "id": "vRvrdEiJQiGn"
      },
      "source": [
        "##Creación del diccionario."
      ]
    },
    {
      "cell_type": "code",
      "execution_count": null,
      "metadata": {
        "id": "aD1tbe-PQK4Z"
      },
      "outputs": [],
      "source": [
        "#Separamos primero en preguntas y respuestas de la forma que queremos, luego las juntamos las que compartan el mismo parentID y provengan del mismo archivo\n",
        "\n",
        "#Hacemos un diccionario de preguntas con el atributo respuestas vacio \n",
        "dic = []\n",
        "\n",
        "for i in range(0,len(df)):\n",
        "  if df['PostTypeId'][i] == '1':\n",
        "    dic.append({'Id':df['Id'][i],'Title':df['Title'][i],'Pregunta':df['Body'][i],'AcceptedId':df['AcceptedAnswerId'][i], 'Date':df['CreationDate'][i], 'Respuestas':[], 'AnswerCount':df['AnswerCount'][i], 'Archivo':df['Archivo'][i]})\n",
        "\n",
        "\n",
        "#Hacemos un diccionario de respuestas \n",
        "dicR = []\n",
        "\n",
        "for i in range(0,len(df)):\n",
        "   if df['PostTypeId'][i] == '2':\n",
        "     dicR.append({'Id':df['Id'][i],'ParentId': df['ParentId'][i], 'Date': df['CreationDate'][i], 'Body': df['Body'][i],'score': df['Score'][i], 'Archivo':df['Archivo'][i]})\n",
        "\n",
        "\n",
        "#Unimos los dos diccionarios en uno solo\n",
        "for i in range(0,len(dic)):\n",
        "  for j in range(0,len(dicR)):\n",
        "    if dicR[j]['ParentId'] == dic[i]['Id'] and dicR[j]['Archivo'] == dic[i]['Archivo']:\n",
        "      dic[i]['Respuestas'].append(dicR[j])\n"
      ]
    },
    {
      "cell_type": "code",
      "execution_count": 38,
      "metadata": {
        "id": "H9XIxrZbQxIv"
      },
      "outputs": [],
      "source": [
        "scoreMax = 0\n",
        "for i in range(0,len(dic)):\n",
        "  scoreMax = 0\n",
        "  if dic[i]['AcceptedId'] == '':\n",
        "    for j in dic[i]['Respuestas']:\n",
        "      if int(j['score']) > scoreMax: \n",
        "        scoreMax = int(j['score'])\n",
        "    dic[i]['score_max']=scoreMax    "
      ]
    },
    {
      "cell_type": "code",
      "execution_count": null,
      "metadata": {
        "id": "BJ6HVrJ0Q0_A"
      },
      "outputs": [],
      "source": [
        "for i in range(0,len(dic)):\n",
        "  if dic[i]['AcceptedId'] == '':\n",
        "    for j in dic[i]['Respuestas']: \n",
        "      if j['score'] == str(dic[i]['score_max']):\n",
        "        dic[i]['AcceptedId'] = j['Id']"
      ]
    },
    {
      "cell_type": "code",
      "execution_count": null,
      "metadata": {
        "id": "GS3SIYNHQ5lY"
      },
      "outputs": [],
      "source": [
        "import time\n",
        "from datetime import date\n",
        "\n",
        "for i in range(0,len(dic)):\n",
        "  fecha = dic[i]['Date'].split(\" \")\n",
        "  dic[i]['Date'] = time.strptime(dic[i]['Date'], \"%Y-%m-%d %H:%M:%S\")"
      ]
    },
    {
      "cell_type": "code",
      "execution_count": null,
      "metadata": {
        "id": "TZw6vNEcK3lE"
      },
      "outputs": [],
      "source": [
        "#Eliminamos puntuación, urls y se escribe el texto en letra minúscula.\n",
        "\n",
        "import string\n",
        "import re \n",
        "def remove_punctuation(text):\n",
        "    punctuationfree=\"\".join([i for i in text if i not in string.punctuation])\n",
        "    return punctuationfree\n",
        "\n",
        "def remove_urls (texto):\n",
        "   texto = re.sub(r'(https|http)?:\\/\\/(\\w|\\.|\\/|\\?|\\=|\\&|\\%)*\\b', '', texto) \n",
        "   return texto \n",
        "\n",
        "for i in range(0,len(dic)):\n",
        "  dic[i]['Pregunta'] = remove_urls(dic[i]['Pregunta'])\n",
        "  dic[i]['Pregunta'] = remove_punctuation(dic[i]['Pregunta'])\n",
        "  dic[i]['Pregunta'] = dic[i]['Pregunta'].lower().strip()\n",
        "  for j in range(0,len(dic[i]['Respuestas'])):\n",
        "    dic[i]['Respuestas'][j]['Body'] = remove_urls(dic[i]['Respuestas'][j]['Body'])\n",
        "    dic[i]['Respuestas'][j]['Body'] = remove_punctuation(dic[i]['Respuestas'][j]['Body'])\n",
        "    dic[i]['Respuestas'][j]['Body'] = dic[i]['Respuestas'][j]['Body'].lower().strip()\n",
        "\n",
        "dic[0]"
      ]
    },
    {
      "cell_type": "code",
      "execution_count": null,
      "metadata": {
        "id": "7QFHm9dEROgo"
      },
      "outputs": [],
      "source": [
        "#Se unen todos los textos de las preguntas y sus respuestas en un campo para trabajar fácilmente \n",
        "for i in range(0,len(dic)):\n",
        "  textos = []\n",
        "  textos.append(dic[i]['Pregunta'])\n",
        "  for j in range(0,len(dic[i]['Respuestas'])):\n",
        "    textos.append(dic[i]['Respuestas'][j]['Body'])\n",
        "  dic[i]['Textos'] = textos"
      ]
    },
    {
      "cell_type": "code",
      "execution_count": null,
      "metadata": {
        "colab": {
          "base_uri": "https://localhost:8080/"
        },
        "id": "C7LCjPyQUX7M",
        "outputId": "ad7224c8-2fc2-403d-a110-a54043eaf13e"
      },
      "outputs": [
        {
          "name": "stdout",
          "output_type": "stream",
          "text": [
            "Tenemos 14777 preguntas.\n",
            "Tenemos 15982 respuestas.\n"
          ]
        }
      ],
      "source": [
        "#Contar el número de preguntas y respuestas.\n",
        "print(\"Tenemos\", len(dic) ,\"preguntas.\") \n",
        "respuestas = 0\n",
        "for i in range(0,len(dic)):\n",
        "  respuestas = respuestas + len(dic[i]['Respuestas'])\n",
        "\n",
        "print(\"Tenemos\", respuestas ,\"respuestas.\")\n"
      ]
    },
    {
      "cell_type": "code",
      "execution_count": null,
      "metadata": {
        "colab": {
          "base_uri": "https://localhost:8080/"
        },
        "id": "TnS4_LUCWXUx",
        "outputId": "1ac537a3-25ad-41a0-f6a5-106aff44f547"
      },
      "outputs": [
        {
          "name": "stdout",
          "output_type": "stream",
          "text": [
            "Tenemos 395 preguntas.\n",
            "Tenemos 1960 respuestas.\n"
          ]
        }
      ],
      "source": [
        "#Seleccionamos preguntas con cuatro o más respuestas. \n",
        "copia = []\n",
        "for i in range(0,len(dic)):\n",
        "  if len(dic[i]['Respuestas']) > 3: \n",
        "    copia.append(dic[i])\n",
        "\n",
        "print(\"Tenemos\", len(copia) ,\"preguntas.\") \n",
        "respuestas = 0\n",
        "for i in range(0,len(copia)):\n",
        "  respuestas = respuestas + len(copia[i]['Respuestas'])\n",
        "\n",
        "print(\"Tenemos\", respuestas ,\"respuestas.\")\n"
      ]
    },
    {
      "cell_type": "code",
      "execution_count": null,
      "metadata": {
        "id": "upaUgKZ3i0w6"
      },
      "outputs": [],
      "source": [
        "#Para exportar el conjunto una vez procesado: \n",
        "import json\n",
        "tf = open(\"corpusProcesado.json\", \"w\")\n",
        "json.dump(copia,tf)\n",
        "tf.close()"
      ]
    },
    {
      "cell_type": "code",
      "execution_count": null,
      "metadata": {
        "id": "XU7F7cUtjNMk"
      },
      "outputs": [],
      "source": [
        "#Para no hacer el preprocesamiento se puede ejecutar desde aquí, siempre y cuando esté cargado el archivo \"corpusProcesado.json\"\n",
        "tf = open(\"corpusProcesado.json\", \"r\")\n",
        "copia = json.load(tf)"
      ]
    },
    {
      "cell_type": "markdown",
      "metadata": {
        "id": "k9KM-lfmm8z1"
      },
      "source": [
        "#Modelos"
      ]
    },
    {
      "cell_type": "markdown",
      "metadata": {
        "id": "1QOH5laHnT09"
      },
      "source": [
        "##Primer modelo\n",
        "TFIDF + Similitud del coseno"
      ]
    },
    {
      "cell_type": "code",
      "execution_count": null,
      "metadata": {
        "colab": {
          "base_uri": "https://localhost:8080/"
        },
        "id": "Ayfi4e-NpxnG",
        "outputId": "e9c2a92b-771f-408d-d84b-74567eb57dd6"
      },
      "outputs": [
        {
          "name": "stdout",
          "output_type": "stream",
          "text": [
            "Looking in indexes: https://pypi.org/simple, https://us-python.pkg.dev/colab-wheels/public/simple/\n",
            "Requirement already satisfied: scikit-learn in /usr/local/lib/python3.7/dist-packages (1.0.2)\n",
            "Requirement already satisfied: joblib>=0.11 in /usr/local/lib/python3.7/dist-packages (from scikit-learn) (1.1.0)\n",
            "Requirement already satisfied: numpy>=1.14.6 in /usr/local/lib/python3.7/dist-packages (from scikit-learn) (1.21.6)\n",
            "Requirement already satisfied: threadpoolctl>=2.0.0 in /usr/local/lib/python3.7/dist-packages (from scikit-learn) (3.1.0)\n",
            "Requirement already satisfied: scipy>=1.1.0 in /usr/local/lib/python3.7/dist-packages (from scikit-learn) (1.4.1)\n"
          ]
        }
      ],
      "source": [
        "!pip3 install -U scikit-learn"
      ]
    },
    {
      "cell_type": "code",
      "execution_count": null,
      "metadata": {
        "colab": {
          "base_uri": "https://localhost:8080/"
        },
        "id": "hQ1gYVlrpZbr",
        "outputId": "e5940a82-f7a0-4cf5-83f0-dd2f5e19e840"
      },
      "outputs": [
        {
          "name": "stderr",
          "output_type": "stream",
          "text": [
            "[nltk_data] Downloading package stopwords to /root/nltk_data...\n",
            "[nltk_data]   Unzipping corpora/stopwords.zip.\n"
          ]
        }
      ],
      "source": [
        "import numpy as np\n",
        "import pandas as pd\n",
        "import nltk\n",
        "from sklearn.feature_extraction.text import CountVectorizer\n",
        "from sklearn.metrics.pairwise import cosine_similarity\n",
        "from sklearn.feature_extraction.text import TfidfTransformer\n",
        "# Descargamos las stopwords de NLTK\n",
        "# Si no tenemos instalado NLTK lo instalamos\n",
        "# !pip3 install -U nltk\n",
        "nltk.download('stopwords')\n",
        "stopwords = nltk.corpus.stopwords.words('english')"
      ]
    },
    {
      "cell_type": "code",
      "execution_count": null,
      "metadata": {
        "id": "pYI80dPQm_A8"
      },
      "outputs": [],
      "source": [
        "# Calculamos la similitud usando TFIDF\n",
        "dic1 = copia\n",
        "count_vect = CountVectorizer(stop_words=stopwords, ngram_range=(1,2))\n",
        "for i in range(0,len(dic1)):\n",
        "  X_counts = count_vect.fit_transform(dic1[i]['Textos'])\n",
        "  # Calculamos ahora el TFIDF\n",
        "  tfidf_transformer = TfidfTransformer()\n",
        "  X_TFIDF = tfidf_transformer.fit_transform(X_counts)\n",
        "\n",
        "  # Calculamos la similitud de los documentos con el coseno para TFIDF\n",
        "  results = cosine_similarity(X_TFIDF[1::],X_TFIDF[0]).reshape((-1,)) # Op -- (n_docs,1) -- Cosine Sim with each doc\n",
        "\n",
        "  #Vamos ahora a calcular los maximos correspondientes para asignarlos en el campo prediccion para cada pregunta\n",
        "  dic1[i]['Pred'] = dic1[i]['Respuestas'][np.where(results == np.amax(results))[0][0]]['Id']\n",
        "\n"
      ]
    },
    {
      "cell_type": "code",
      "execution_count": null,
      "metadata": {
        "id": "S7EXEuWKuTCW"
      },
      "outputs": [],
      "source": [
        "#Funciones para el cálculo del recall precision y f1\n",
        "def recall(VP, FN):\n",
        "  rec = VP / (VP+FN)\n",
        "  return rec\n",
        "\n",
        "def precision(VP, FP):\n",
        "  prec = VP / (VP + FP)\n",
        "  return prec\n",
        "\n",
        "def accuracy(VP, FN, FP, VN):\n",
        "  N = VP+FN+FP+VN\n",
        "  return (VP+VN)/N\n",
        "\n",
        "def fscore(prec, recall):\n",
        "  num = 2 * prec * recall\n",
        "  den = prec + recall\n",
        "  return num / den"
      ]
    },
    {
      "cell_type": "code",
      "execution_count": null,
      "metadata": {
        "colab": {
          "base_uri": "https://localhost:8080/"
        },
        "id": "ASzVbwdTogcd",
        "outputId": "328ad975-e288-4f46-d6a4-50784c74321f"
      },
      "outputs": [
        {
          "name": "stdout",
          "output_type": "stream",
          "text": [
            "VP =108    FN =287\n",
            "FP =287    VN =1278\n"
          ]
        }
      ],
      "source": [
        "#Una vez calculadas las predicciones hacemos la matriz de confusión para el cálculo de los estadísticos\n",
        "dic = dic1 \n",
        "VP = 0\n",
        "FN = 0\n",
        "FP = 0\n",
        "VN = 0\n",
        "for i in range(0,len(dic)):\n",
        "  for j in range(0,len(dic[i]['Respuestas'])):\n",
        "    if dic[i]['AcceptedId'] == dic[i]['Respuestas'][j]['Id'] and dic[i]['Respuestas'][j]['Id'] == dic[i]['Pred']:\n",
        "      VP = VP + 1\n",
        "    elif dic[i]['AcceptedId'] != dic[i]['Respuestas'][j]['Id'] and dic[i]['Respuestas'][j]['Id'] == dic[i]['Pred']:\n",
        "      FP = FP + 1 \n",
        "    elif dic[i]['AcceptedId'] == dic[i]['Respuestas'][j]['Id'] and dic[i]['Respuestas'][j]['Id'] != dic[i]['Pred']:\n",
        "      FN = FN + 1 \n",
        "    elif dic[i]['AcceptedId'] != dic[i]['Respuestas'][j]['Id'] and dic[i]['Respuestas'][j]['Id'] != dic[i]['Pred']:\n",
        "      VN = VN + 1\n",
        "\n",
        "print(\"VP =\"+str(VP) + \"    \" + \"FN =\"+str(FN))\n",
        "print(\"FP =\"+str(FP) + \"    \" + \"VN =\"+str(VN))"
      ]
    },
    {
      "cell_type": "code",
      "execution_count": null,
      "metadata": {
        "colab": {
          "base_uri": "https://localhost:8080/"
        },
        "id": "Xr9JEVeHq4F-",
        "outputId": "0f121874-1384-4012-b70f-f4d828f244e7"
      },
      "outputs": [
        {
          "name": "stdout",
          "output_type": "stream",
          "text": [
            "Recall: 0.27341772151898736\n",
            "Precision: 0.27341772151898736\n",
            "Accuracy: 0.7071428571428572\n",
            "f1-score: 0.27341772151898736\n"
          ]
        }
      ],
      "source": [
        "#Medidas y estadísticos del primer modelo: \n",
        "print(\"Recall: \" + str(recall(VP,FN)))\n",
        "print(\"Precision: \"+ str(precision(VP,FP)))\n",
        "print(\"Accuracy: \" + str(accuracy(VP, FN, FP, VN)))\n",
        "print(\"f1-score: \" + str(fscore(precision(VP,FP), recall(VP,FN))))"
      ]
    },
    {
      "cell_type": "markdown",
      "metadata": {
        "id": "uKiRm7iur-8n"
      },
      "source": [
        "##Segundo modelo\n",
        "Por fecha más actual"
      ]
    },
    {
      "cell_type": "code",
      "execution_count": null,
      "metadata": {
        "id": "EN-eSeUSzPfj"
      },
      "outputs": [],
      "source": [
        "#Se asigna como prediccion la fecha de la primera respuesta, se recorren todas las respuestas y en caso de encontrar una respuesta con fecha más actual se modifica.\n",
        "dic2 = copia\n",
        "for i in range(0, len(copia)):\n",
        "  dic2[i]['Pred'] = dic2[i]['Respuestas'][0]['Id'] \n",
        "  k=0\n",
        "  for j in range(0,len(dic2[i]['Respuestas'])-1):\n",
        "    fechaPred = dic2[i]['Respuestas'][k]['Date']\n",
        "    if fechaPred > dic2[i]['Respuestas'][j+1]['Date']:\n",
        "      dic2[i]['Pred'] = dic2[i]['Respuestas'][j+1]['Id']\n",
        "      k = j\n",
        "\n",
        "#Por ver un ejemplo\n",
        "dic2[0]"
      ]
    },
    {
      "cell_type": "code",
      "execution_count": null,
      "metadata": {
        "colab": {
          "base_uri": "https://localhost:8080/"
        },
        "id": "hNymtE6FMDRs",
        "outputId": "7914183c-1cb3-425e-870a-1491c03a72cc"
      },
      "outputs": [
        {
          "name": "stdout",
          "output_type": "stream",
          "text": [
            "VP =124    FN =271\n",
            "FP =271    VN =1294\n"
          ]
        }
      ],
      "source": [
        "\n",
        "dic = dic2\n",
        "VP = 0\n",
        "FN = 0\n",
        "FP = 0\n",
        "VN = 0\n",
        "for i in range(0,len(dic)):\n",
        "  for j in range(0,len(dic[i]['Respuestas'])):\n",
        "    if dic[i]['AcceptedId'] == dic[i]['Respuestas'][j]['Id'] and dic[i]['Respuestas'][j]['Id'] == dic[i]['Pred']:\n",
        "      VP = VP + 1\n",
        "    elif dic[i]['AcceptedId'] != dic[i]['Respuestas'][j]['Id'] and dic[i]['Respuestas'][j]['Id'] == dic[i]['Pred']:\n",
        "      FP = FP + 1 \n",
        "    elif dic[i]['AcceptedId'] == dic[i]['Respuestas'][j]['Id'] and dic[i]['Respuestas'][j]['Id'] != dic[i]['Pred']:\n",
        "      FN = FN + 1 \n",
        "    elif dic[i]['AcceptedId'] != dic[i]['Respuestas'][j]['Id'] and dic[i]['Respuestas'][j]['Id'] != dic[i]['Pred']:\n",
        "      VN = VN + 1\n",
        "\n",
        "print(\"VP =\"+str(VP) + \"    \" + \"FN =\"+str(FN))\n",
        "print(\"FP =\"+str(FP) + \"    \" + \"VN =\"+str(VN))"
      ]
    },
    {
      "cell_type": "code",
      "execution_count": null,
      "metadata": {
        "colab": {
          "base_uri": "https://localhost:8080/"
        },
        "id": "pc3T0DGUMK89",
        "outputId": "2a037b30-9256-4832-f02f-8cab8a75f982"
      },
      "outputs": [
        {
          "name": "stdout",
          "output_type": "stream",
          "text": [
            "Recall: 0.3139240506329114\n",
            "Precision: 0.3139240506329114\n",
            "Accuracy: 0.7234693877551021\n",
            "f1-score: 0.3139240506329114\n"
          ]
        }
      ],
      "source": [
        "#Medidas y estadísticos del segundo modelo: \n",
        "prec2 = precision(VP,FP)\n",
        "recall2 = recall(VP,FN)\n",
        "print(\"Recall: \" + str(recall2))\n",
        "print(\"Precision: \"+ str(prec2))\n",
        "print(\"Accuracy: \" + str(accuracy(VP, FN, FP, VN)))\n",
        "print(\"f1-score: \" + str(fscore(prec2, recall2)))"
      ]
    },
    {
      "cell_type": "markdown",
      "metadata": {
        "id": "fmcYO9uXQFgx"
      },
      "source": [
        "##Tercer modelo\n",
        "\n",
        "BERT"
      ]
    },
    {
      "cell_type": "code",
      "execution_count": null,
      "metadata": {
        "colab": {
          "base_uri": "https://localhost:8080/"
        },
        "id": "i7uBkNAzQJyz",
        "outputId": "38307364-aaca-4fd1-b31a-ab7430869d39"
      },
      "outputs": [
        {
          "name": "stdout",
          "output_type": "stream",
          "text": [
            "Looking in indexes: https://pypi.org/simple, https://us-python.pkg.dev/colab-wheels/public/simple/\n",
            "Collecting transformers\n",
            "  Downloading transformers-4.20.1-py3-none-any.whl (4.4 MB)\n",
            "\u001b[K     |████████████████████████████████| 4.4 MB 7.1 MB/s \n",
            "\u001b[?25hCollecting tokenizers!=0.11.3,<0.13,>=0.11.1\n",
            "  Downloading tokenizers-0.12.1-cp37-cp37m-manylinux_2_12_x86_64.manylinux2010_x86_64.whl (6.6 MB)\n",
            "\u001b[K     |████████████████████████████████| 6.6 MB 49.1 MB/s \n",
            "\u001b[?25hRequirement already satisfied: tqdm>=4.27 in /usr/local/lib/python3.7/dist-packages (from transformers) (4.64.0)\n",
            "Requirement already satisfied: importlib-metadata in /usr/local/lib/python3.7/dist-packages (from transformers) (4.11.4)\n",
            "Requirement already satisfied: packaging>=20.0 in /usr/local/lib/python3.7/dist-packages (from transformers) (21.3)\n",
            "Requirement already satisfied: regex!=2019.12.17 in /usr/local/lib/python3.7/dist-packages (from transformers) (2022.6.2)\n",
            "Collecting pyyaml>=5.1\n",
            "  Downloading PyYAML-6.0-cp37-cp37m-manylinux_2_5_x86_64.manylinux1_x86_64.manylinux_2_12_x86_64.manylinux2010_x86_64.whl (596 kB)\n",
            "\u001b[K     |████████████████████████████████| 596 kB 69.7 MB/s \n",
            "\u001b[?25hRequirement already satisfied: requests in /usr/local/lib/python3.7/dist-packages (from transformers) (2.23.0)\n",
            "Requirement already satisfied: numpy>=1.17 in /usr/local/lib/python3.7/dist-packages (from transformers) (1.21.6)\n",
            "Collecting huggingface-hub<1.0,>=0.1.0\n",
            "  Downloading huggingface_hub-0.8.1-py3-none-any.whl (101 kB)\n",
            "\u001b[K     |████████████████████████████████| 101 kB 14.3 MB/s \n",
            "\u001b[?25hRequirement already satisfied: filelock in /usr/local/lib/python3.7/dist-packages (from transformers) (3.7.1)\n",
            "Requirement already satisfied: typing-extensions>=3.7.4.3 in /usr/local/lib/python3.7/dist-packages (from huggingface-hub<1.0,>=0.1.0->transformers) (4.1.1)\n",
            "Requirement already satisfied: pyparsing!=3.0.5,>=2.0.2 in /usr/local/lib/python3.7/dist-packages (from packaging>=20.0->transformers) (3.0.9)\n",
            "Requirement already satisfied: zipp>=0.5 in /usr/local/lib/python3.7/dist-packages (from importlib-metadata->transformers) (3.8.0)\n",
            "Requirement already satisfied: idna<3,>=2.5 in /usr/local/lib/python3.7/dist-packages (from requests->transformers) (2.10)\n",
            "Requirement already satisfied: chardet<4,>=3.0.2 in /usr/local/lib/python3.7/dist-packages (from requests->transformers) (3.0.4)\n",
            "Requirement already satisfied: urllib3!=1.25.0,!=1.25.1,<1.26,>=1.21.1 in /usr/local/lib/python3.7/dist-packages (from requests->transformers) (1.24.3)\n",
            "Requirement already satisfied: certifi>=2017.4.17 in /usr/local/lib/python3.7/dist-packages (from requests->transformers) (2022.6.15)\n",
            "Installing collected packages: pyyaml, tokenizers, huggingface-hub, transformers\n",
            "  Attempting uninstall: pyyaml\n",
            "    Found existing installation: PyYAML 3.13\n",
            "    Uninstalling PyYAML-3.13:\n",
            "      Successfully uninstalled PyYAML-3.13\n",
            "Successfully installed huggingface-hub-0.8.1 pyyaml-6.0 tokenizers-0.12.1 transformers-4.20.1\n"
          ]
        }
      ],
      "source": [
        "!pip3 install transformers"
      ]
    },
    {
      "cell_type": "code",
      "execution_count": null,
      "metadata": {
        "colab": {
          "base_uri": "https://localhost:8080/",
          "height": 251,
          "referenced_widgets": [
            "c0ef277f725b4318aa6731c2d5852bc1",
            "fc1067cf7046483184dec61224eabf42",
            "34c1a03943414025a60f251cca9693b3",
            "2f65c85932614dc195e33e461b770463",
            "44600addc443430ca486c271b6435f63",
            "045af614aeda4852bae44c599c4b26eb",
            "eb23aaad894245959924b361da2b3157",
            "ac74dbf5c1b346c58b27d0fe2f65ae2d",
            "bf26573eccbe4bae9f62bdf34b37ac29",
            "852c295691824a81984522c7bdf6752c",
            "3d559f16955b447eb0f632ea55e91659",
            "4a0da44d6bd14cb19e33ae71498e93f9",
            "2e0b206e371944b381e94eb0a9df0b6e",
            "31bcc52334b14395b885f602f9135cc7",
            "2ea85e089780424b9f3afa405944a4fd",
            "e08963fb3cbd4f0abe9f08bce01e916c",
            "81a73faffcb54d5499656165ee411dd6",
            "7a12d5ee20ed4c9dbff78902117fc8f5",
            "218ffa9668034454a96a309beea74755",
            "cfb9b98f6677468ea922690fbd349ac0",
            "764755ab3776498887637371ed4b0dcd",
            "4b7a7ef82f774c1aa54ea20e11c91395",
            "785afaee644842e4acb32b6a14475af2",
            "3531baa29a7a49cb9d3d4f58a2f547f0",
            "70008340506c4f31ae50fb6cfeab4b27",
            "37fd1e385d3542ac8d394fba82100d77",
            "275343981185479d8a8c89cf768414f2",
            "69e34dfbd09546a88d9af62ac468b1d7",
            "8ad05ebbab56425b8b4cabbd075106d0",
            "555e280336bf4c58a1ba748e6c6a52c5",
            "1eefd72c74b248ddaa6f6be393f1ff6c",
            "c69a9b82f38944a28a362b1f17b332e6",
            "ae620e4ae2e14991b94d071b4cd2c429",
            "94f62c621c82479e891f73f861801f11",
            "ec2494d463be4a14b492b779e8b51621",
            "f7e2cd59ceaa400fa6a203c9bebc59e9",
            "c52291fc43f94684b6ec3986dcda841f",
            "a8ef53a563ea485ba93e6157a9cc99f6",
            "41a6c0ccb1f6465787408feb207e9e05",
            "3f43e399353f4942bd1351f145ee640f",
            "9c8d860eb95042028e082f897435fba5",
            "81587ce8bde04c42962034a2c167be7f",
            "90be21114c194e29bad8d77fb517fa7c",
            "dcf13e861aa64c3ba38ddac35c23cfd7",
            "5e84b7316cd84c238935b5ef7cd066a3",
            "47bf7ead7aaf44b7b95a32f6cbbb8d62",
            "a04f4c7a3e2147d1852f1a739b0cdbdc",
            "cdd17218045f435d9ff12650402279bf",
            "47322adf7ac04f019fe505c4037c822d",
            "1cb47933fa664a22ac9a47803066b4fc",
            "2417f8e3426e498c8375e0034163208c",
            "512f1050e89546fca79daff6d4f9aa53",
            "23d15c07b8d84d4095f5960224a7f7e8",
            "88a468b8da27472fb10f821f04aa6fd1",
            "8772055791244f3ea648cc5cf5823db1"
          ]
        },
        "id": "yLLFAnedQ1im",
        "outputId": "40fbf15c-d348-4c3d-9645-a66517046b18"
      },
      "outputs": [
        {
          "data": {
            "application/vnd.jupyter.widget-view+json": {
              "model_id": "c0ef277f725b4318aa6731c2d5852bc1",
              "version_major": 2,
              "version_minor": 0
            },
            "text/plain": [
              "Downloading:   0%|          | 0.00/29.0 [00:00<?, ?B/s]"
            ]
          },
          "metadata": {},
          "output_type": "display_data"
        },
        {
          "data": {
            "application/vnd.jupyter.widget-view+json": {
              "model_id": "4a0da44d6bd14cb19e33ae71498e93f9",
              "version_major": 2,
              "version_minor": 0
            },
            "text/plain": [
              "Downloading:   0%|          | 0.00/570 [00:00<?, ?B/s]"
            ]
          },
          "metadata": {},
          "output_type": "display_data"
        },
        {
          "data": {
            "application/vnd.jupyter.widget-view+json": {
              "model_id": "785afaee644842e4acb32b6a14475af2",
              "version_major": 2,
              "version_minor": 0
            },
            "text/plain": [
              "Downloading:   0%|          | 0.00/208k [00:00<?, ?B/s]"
            ]
          },
          "metadata": {},
          "output_type": "display_data"
        },
        {
          "data": {
            "application/vnd.jupyter.widget-view+json": {
              "model_id": "94f62c621c82479e891f73f861801f11",
              "version_major": 2,
              "version_minor": 0
            },
            "text/plain": [
              "Downloading:   0%|          | 0.00/426k [00:00<?, ?B/s]"
            ]
          },
          "metadata": {},
          "output_type": "display_data"
        },
        {
          "data": {
            "application/vnd.jupyter.widget-view+json": {
              "model_id": "5e84b7316cd84c238935b5ef7cd066a3",
              "version_major": 2,
              "version_minor": 0
            },
            "text/plain": [
              "Downloading:   0%|          | 0.00/416M [00:00<?, ?B/s]"
            ]
          },
          "metadata": {},
          "output_type": "display_data"
        },
        {
          "name": "stderr",
          "output_type": "stream",
          "text": [
            "Some weights of the model checkpoint at bert-base-cased were not used when initializing BertModel: ['cls.predictions.transform.LayerNorm.weight', 'cls.predictions.decoder.weight', 'cls.predictions.transform.dense.weight', 'cls.predictions.transform.LayerNorm.bias', 'cls.seq_relationship.weight', 'cls.seq_relationship.bias', 'cls.predictions.transform.dense.bias', 'cls.predictions.bias']\n",
            "- This IS expected if you are initializing BertModel from the checkpoint of a model trained on another task or with another architecture (e.g. initializing a BertForSequenceClassification model from a BertForPreTraining model).\n",
            "- This IS NOT expected if you are initializing BertModel from the checkpoint of a model that you expect to be exactly identical (initializing a BertForSequenceClassification model from a BertForSequenceClassification model).\n"
          ]
        }
      ],
      "source": [
        "import transformers\n",
        "\n",
        "#Cargamos el tokenizer\n",
        "tokenizer = transformers.AutoTokenizer.from_pretrained(\"bert-base-cased\")\n",
        "\n",
        "\n",
        "#Cargamos el modelo pre-entrenado\n",
        "bert_model = transformers.AutoModel.from_pretrained(\"bert-base-cased\")"
      ]
    },
    {
      "cell_type": "code",
      "execution_count": null,
      "metadata": {
        "id": "XxrcIoEPQ8UC"
      },
      "outputs": [],
      "source": [
        "import torch\n",
        "import pandas as pd\n",
        "import numpy as np\n",
        "from tqdm import tqdm\n",
        "\n",
        "def bert_sentence_embeddings(texts, model):\n",
        "  \n",
        "  def mean_pooling (model_output, attention_mask):\n",
        "    \n",
        "    token_embeddings = model_output[0]\n",
        "    \n",
        "    input_mask_expanded = attention_mask.unsqueeze (-1).expand (token_embeddings.size ()).float ()\n",
        "    \n",
        "    sum_embeddings = torch.sum (token_embeddings * input_mask_expanded, 1)\n",
        "\n",
        "    sum_mask = torch.clamp (input_mask_expanded.sum (1), min = 1e-9)\n",
        "\n",
        "    return sum_embeddings / sum_mask\n",
        "    \n",
        "    \n",
        "  #Cargamos el modelo y el tokenizador\n",
        "  tokenizer = transformers.AutoTokenizer.from_pretrained (\"bert-base-cased\")\n",
        "  model = transformers.AutoModel.from_pretrained (\"bert-base-cased\")\n",
        "\n",
        "\n",
        "  #Codificación de los valores de entrada\n",
        "  encoded_inputs = tokenizer (\n",
        "      texts, \n",
        "      padding = True, \n",
        "      truncation = True, \n",
        "      max_length = 256, \n",
        "      return_tensors = 'pt'\n",
        "  )\n",
        "        \n",
        "        \n",
        "  # Construimos los embeddings\n",
        "  with torch.no_grad ():\n",
        "      model_outputs = model (**encoded_inputs)\n",
        "      sentence_embeddings = mean_pooling (model_outputs, encoded_inputs['attention_mask'])\n",
        "      a = pd.DataFrame (sentence_embeddings.cpu ().numpy ())\n",
        "            \n",
        "  return a"
      ]
    },
    {
      "cell_type": "code",
      "execution_count": null,
      "metadata": {
        "colab": {
          "background_save": true,
          "base_uri": "https://localhost:8080/"
        },
        "id": "4WmY4SDpRLrq",
        "outputId": "3695b336-bcae-4dce-dee7-4c95cb38d019"
      },
      "outputs": [
        {
          "name": "stderr",
          "output_type": "stream",
          "text": [
            "Some weights of the model checkpoint at bert-base-cased were not used when initializing BertModel: ['cls.predictions.transform.LayerNorm.weight', 'cls.predictions.decoder.weight', 'cls.predictions.transform.dense.weight', 'cls.predictions.transform.LayerNorm.bias', 'cls.seq_relationship.weight', 'cls.seq_relationship.bias', 'cls.predictions.transform.dense.bias', 'cls.predictions.bias']\n",
            "- This IS expected if you are initializing BertModel from the checkpoint of a model trained on another task or with another architecture (e.g. initializing a BertForSequenceClassification model from a BertForPreTraining model).\n",
            "- This IS NOT expected if you are initializing BertModel from the checkpoint of a model that you expect to be exactly identical (initializing a BertForSequenceClassification model from a BertForSequenceClassification model).\n"
          ]
        }
      ],
      "source": [
        "from sklearn.metrics.pairwise import cosine_similarity\n",
        "import numpy as np\n",
        "import scipy.sparse as sp\n",
        "from transformers import logging\n",
        "\n",
        "dic3 = copia\n",
        "# Calculamos la similitud usando sentence embeddings\n",
        "for i in range(0, len(dic3)):\n",
        "  sentence_embeddings = bert_sentence_embeddings(dic3[i]['Textos'], bert_model)\n",
        "  logging.set_verbosity_error()\n",
        "  if not sp.issparse(sentence_embeddings):\n",
        "            sentence_embeddings = sp.csr_matrix(sentence_embeddings, dtype=np.float64)\n",
        "  # Calculamos la similitud de los documentos con el coseno para sentence embeddings\n",
        "  results = cosine_similarity(sentence_embeddings[1::],sentence_embeddings[0]).reshape(-1,) # Op -- (n_docs,1) -- Cosine Sim with each doc\n",
        "  dic3[i]['Pred'] = dic3[i]['Respuestas'][np.where(results == np.amax(results))[0][0]]['Id']\n"
      ]
    },
    {
      "cell_type": "code",
      "execution_count": null,
      "metadata": {
        "colab": {
          "background_save": true
        },
        "id": "dqeWXKEFSYor",
        "outputId": "8f24e279-8863-4728-88ef-689ce25314ed"
      },
      "outputs": [
        {
          "name": "stdout",
          "output_type": "stream",
          "text": [
            "VP =110    FN =285\n",
            "FP =285    VN =1280\n"
          ]
        }
      ],
      "source": [
        "dic = dic3\n",
        "VP = 0\n",
        "FN = 0\n",
        "FP = 0\n",
        "VN = 0\n",
        "for i in range(0,len(dic)):\n",
        "  for j in range(0,len(dic[i]['Respuestas'])):\n",
        "    if dic[i]['AcceptedId'] == dic[i]['Respuestas'][j]['Id'] and dic[i]['Respuestas'][j]['Id'] == dic[i]['Pred']:\n",
        "      VP = VP + 1\n",
        "    elif dic[i]['AcceptedId'] != dic[i]['Respuestas'][j]['Id'] and dic[i]['Respuestas'][j]['Id'] == dic[i]['Pred']:\n",
        "      FP = FP + 1 \n",
        "    elif dic[i]['AcceptedId'] == dic[i]['Respuestas'][j]['Id'] and dic[i]['Respuestas'][j]['Id'] != dic[i]['Pred']:\n",
        "      FN = FN + 1 \n",
        "    elif dic[i]['AcceptedId'] != dic[i]['Respuestas'][j]['Id'] and dic[i]['Respuestas'][j]['Id'] != dic[i]['Pred']:\n",
        "      VN = VN + 1\n",
        "\n",
        "print(\"VP =\"+str(VP) + \"    \" + \"FN =\"+str(FN))\n",
        "print(\"FP =\"+str(FP) + \"    \" + \"VN =\"+str(VN))"
      ]
    },
    {
      "cell_type": "code",
      "execution_count": null,
      "metadata": {
        "colab": {
          "background_save": true
        },
        "id": "3Qek8QftTiXe",
        "outputId": "1dc1ac61-43d6-490d-ae66-b3d81aecb966"
      },
      "outputs": [
        {
          "name": "stdout",
          "output_type": "stream",
          "text": [
            "Recall: 0.27848101265822783\n",
            "Precision: 0.27848101265822783\n",
            "Accuracy: 0.7091836734693877\n",
            "f1-score: 0.27848101265822783\n"
          ]
        }
      ],
      "source": [
        "prec3 = precision(VP,FP)\n",
        "recall3 = recall(VP,FN)\n",
        "print(\"Recall: \" + str(recall3))\n",
        "print(\"Precision: \"+ str(prec3))\n",
        "print(\"Accuracy: \" + str(accuracy(VP, FN, FP, VN)))\n",
        "print(\"f1-score: \" + str(fscore(prec3, recall3)))"
      ]
    },
    {
      "cell_type": "markdown",
      "metadata": {
        "id": "bWo9L3HBK0lF"
      },
      "source": [
        "##Cuarto modelo \n",
        "FastText\n"
      ]
    },
    {
      "cell_type": "code",
      "execution_count": null,
      "metadata": {
        "colab": {
          "background_save": true
        },
        "id": "CVkQ3eK8K1_f",
        "outputId": "16afff0d-7b03-4801-b4b4-4e8d8a7b0174"
      },
      "outputs": [
        {
          "name": "stdout",
          "output_type": "stream",
          "text": [
            "Looking in indexes: https://pypi.org/simple, https://us-python.pkg.dev/colab-wheels/public/simple/\n",
            "Collecting fasttext\n",
            "  Downloading fasttext-0.9.2.tar.gz (68 kB)\n",
            "\u001b[K     |████████████████████████████████| 68 kB 4.4 MB/s \n",
            "\u001b[?25hCollecting pybind11>=2.2\n",
            "  Using cached pybind11-2.9.2-py2.py3-none-any.whl (213 kB)\n",
            "Requirement already satisfied: setuptools>=0.7.0 in /usr/local/lib/python3.7/dist-packages (from fasttext) (57.4.0)\n",
            "Requirement already satisfied: numpy in /usr/local/lib/python3.7/dist-packages (from fasttext) (1.21.6)\n",
            "Building wheels for collected packages: fasttext\n",
            "  Building wheel for fasttext (setup.py) ... \u001b[?25l\u001b[?25hdone\n",
            "  Created wheel for fasttext: filename=fasttext-0.9.2-cp37-cp37m-linux_x86_64.whl size=3142688 sha256=f017f9a697fcaece6728483dd0dedae80f1d9059d74979c0cd2d56d621f0980c\n",
            "  Stored in directory: /root/.cache/pip/wheels/4e/ca/bf/b020d2be95f7641801a6597a29c8f4f19e38f9c02a345bab9b\n",
            "Successfully built fasttext\n",
            "Installing collected packages: pybind11, fasttext\n",
            "Successfully installed fasttext-0.9.2 pybind11-2.9.2\n"
          ]
        }
      ],
      "source": [
        "!pip3 install fasttext\n",
        "import fasttext"
      ]
    },
    {
      "cell_type": "code",
      "execution_count": null,
      "metadata": {
        "colab": {
          "background_save": true
        },
        "id": "RWnXPOP6K7f9",
        "outputId": "f08bc8bf-1413-42f1-fe54-ba4e15873de1"
      },
      "outputs": [
        {
          "name": "stdout",
          "output_type": "stream",
          "text": [
            "--2022-06-30 15:16:46--  https://dl.fbaipublicfiles.com/fasttext/vectors-crawl/cc.en.300.bin.gz\n",
            "Resolving dl.fbaipublicfiles.com (dl.fbaipublicfiles.com)... 104.22.74.142, 172.67.9.4, 104.22.75.142, ...\n",
            "Connecting to dl.fbaipublicfiles.com (dl.fbaipublicfiles.com)|104.22.74.142|:443... connected.\n",
            "HTTP request sent, awaiting response... 200 OK\n",
            "Length: 4503593528 (4.2G) [application/octet-stream]\n",
            "Saving to: ‘cc.en.300.bin.gz’\n",
            "\n",
            "cc.en.300.bin.gz    100%[===================>]   4.19G  51.8MB/s    in 89s     \n",
            "\n",
            "2022-06-30 15:18:16 (48.3 MB/s) - ‘cc.en.300.bin.gz’ saved [4503593528/4503593528]\n",
            "\n"
          ]
        }
      ],
      "source": [
        "!wget https://dl.fbaipublicfiles.com/fasttext/vectors-crawl/cc.en.300.bin.gz\n",
        "!gzip -d cc.en.300.bin.gz"
      ]
    },
    {
      "cell_type": "code",
      "execution_count": null,
      "metadata": {
        "colab": {
          "background_save": true
        },
        "id": "pKCTQyEFK-JI",
        "outputId": "b1129cbd-4940-4dcc-bfb3-48dbb89c3991"
      },
      "outputs": [
        {
          "name": "stderr",
          "output_type": "stream",
          "text": [
            "Warning : `load_model` does not return WordVectorModel or SupervisedModel any more, but a `FastText` object which is very similar.\n"
          ]
        }
      ],
      "source": [
        "ft_model = fasttext.load_model (\"cc.en.300.bin\")"
      ]
    },
    {
      "cell_type": "code",
      "execution_count": null,
      "metadata": {
        "colab": {
          "background_save": true
        },
        "id": "RUX1RMKoLBDB"
      },
      "outputs": [],
      "source": [
        "from sklearn.metrics.pairwise import cosine_similarity\n",
        "import pandas as pd\n",
        "import numpy as np\n",
        "import scipy.sparse as sp\n",
        "\n",
        "dic4 = copia\n",
        "\n",
        "import pandas as pd\n",
        "\n",
        "for i in range(0,len(dic4)):\n",
        "  df_textos = pd.DataFrame(dic4[i]['Textos'])\n",
        "  # Calculamos la similitud usando sentence embeddings\n",
        "  fasttext_sentence_embeddings = df_textos[0].apply(lambda x: ft_model.get_sentence_vector(x))\n",
        "  fasttext_sentence_embeddings = fasttext_sentence_embeddings.to_list()\n",
        "  if not sp.issparse(fasttext_sentence_embeddings):\n",
        "              fasttext_sentence_embeddings = sp.csr_matrix(fasttext_sentence_embeddings, dtype=np.float64)\n",
        "  # Calculamos la similitud de los documentos con el coseno para sentence embeddings\n",
        "  results = cosine_similarity(fasttext_sentence_embeddings[1::],fasttext_sentence_embeddings[0]).reshape(-1,) # Op -- (n_docs,1) -- Cosine Sim with each doc  \n",
        "  \n",
        "  dic4[i]['Pred'] = dic4[i]['Respuestas'][np.where(results == np.amax(results))[0][0]]['Id']"
      ]
    },
    {
      "cell_type": "code",
      "execution_count": null,
      "metadata": {
        "colab": {
          "background_save": true
        },
        "id": "RFIOhfloLEJt",
        "outputId": "8bb445b4-a5b7-4164-cd2a-a28717518fa9"
      },
      "outputs": [
        {
          "name": "stdout",
          "output_type": "stream",
          "text": [
            "VP =135    FN =260\n",
            "FP =260    VN =1305\n"
          ]
        }
      ],
      "source": [
        "dic = dic4\n",
        "VP = 0\n",
        "FN = 0\n",
        "FP = 0\n",
        "VN = 0\n",
        "for i in range(0,len(dic)):\n",
        "  for j in range(0,len(dic[i]['Respuestas'])):\n",
        "    if dic[i]['AcceptedId'] == dic[i]['Respuestas'][j]['Id'] and dic[i]['Respuestas'][j]['Id'] == dic[i]['Pred']:\n",
        "      VP = VP + 1\n",
        "    elif dic[i]['AcceptedId'] != dic[i]['Respuestas'][j]['Id'] and dic[i]['Respuestas'][j]['Id'] == dic[i]['Pred']:\n",
        "      FP = FP + 1 \n",
        "    elif dic[i]['AcceptedId'] == dic[i]['Respuestas'][j]['Id'] and dic[i]['Respuestas'][j]['Id'] != dic[i]['Pred']:\n",
        "      FN = FN + 1 \n",
        "    elif dic[i]['AcceptedId'] != dic[i]['Respuestas'][j]['Id'] and dic[i]['Respuestas'][j]['Id'] != dic[i]['Pred']:\n",
        "      VN = VN + 1\n",
        "\n",
        "print(\"VP =\"+str(VP) + \"    \" + \"FN =\"+str(FN))\n",
        "print(\"FP =\"+str(FP) + \"    \" + \"VN =\"+str(VN))"
      ]
    },
    {
      "cell_type": "code",
      "execution_count": null,
      "metadata": {
        "colab": {
          "background_save": true
        },
        "id": "1B5aVFr_LHmK",
        "outputId": "18111360-43ee-4e5a-8819-a117c7dbc613"
      },
      "outputs": [
        {
          "name": "stdout",
          "output_type": "stream",
          "text": [
            "Recall: 0.34177215189873417\n",
            "Precision: 0.34177215189873417\n",
            "Accuracy: 0.7346938775510204\n",
            "f1-score: 0.34177215189873417\n"
          ]
        }
      ],
      "source": [
        "prec4 = precision(VP,FP)\n",
        "recall4 = recall(VP,FN)\n",
        "print(\"Recall: \" + str(recall4))\n",
        "print(\"Precision: \"+ str(prec4))\n",
        "print(\"Accuracy: \" + str(accuracy(VP, FN, FP, VN)))\n",
        "print(\"f1-score: \" + str(fscore(prec4, recall4)))"
      ]
    }
  ],
  "metadata": {
    "colab": {
      "collapsed_sections": [],
      "name": "Modelos_TFM.ipynb",
      "provenance": []
    },
    "kernelspec": {
      "display_name": "Python 3",
      "name": "python3"
    },
    "language_info": {
      "name": "python"
    },
    "widgets": {
      "application/vnd.jupyter.widget-state+json": {
        "045af614aeda4852bae44c599c4b26eb": {
          "model_module": "@jupyter-widgets/base",
          "model_module_version": "1.2.0",
          "model_name": "LayoutModel",
          "state": {
            "_model_module": "@jupyter-widgets/base",
            "_model_module_version": "1.2.0",
            "_model_name": "LayoutModel",
            "_view_count": null,
            "_view_module": "@jupyter-widgets/base",
            "_view_module_version": "1.2.0",
            "_view_name": "LayoutView",
            "align_content": null,
            "align_items": null,
            "align_self": null,
            "border": null,
            "bottom": null,
            "display": null,
            "flex": null,
            "flex_flow": null,
            "grid_area": null,
            "grid_auto_columns": null,
            "grid_auto_flow": null,
            "grid_auto_rows": null,
            "grid_column": null,
            "grid_gap": null,
            "grid_row": null,
            "grid_template_areas": null,
            "grid_template_columns": null,
            "grid_template_rows": null,
            "height": null,
            "justify_content": null,
            "justify_items": null,
            "left": null,
            "margin": null,
            "max_height": null,
            "max_width": null,
            "min_height": null,
            "min_width": null,
            "object_fit": null,
            "object_position": null,
            "order": null,
            "overflow": null,
            "overflow_x": null,
            "overflow_y": null,
            "padding": null,
            "right": null,
            "top": null,
            "visibility": null,
            "width": null
          }
        },
        "1cb47933fa664a22ac9a47803066b4fc": {
          "model_module": "@jupyter-widgets/base",
          "model_module_version": "1.2.0",
          "model_name": "LayoutModel",
          "state": {
            "_model_module": "@jupyter-widgets/base",
            "_model_module_version": "1.2.0",
            "_model_name": "LayoutModel",
            "_view_count": null,
            "_view_module": "@jupyter-widgets/base",
            "_view_module_version": "1.2.0",
            "_view_name": "LayoutView",
            "align_content": null,
            "align_items": null,
            "align_self": null,
            "border": null,
            "bottom": null,
            "display": null,
            "flex": null,
            "flex_flow": null,
            "grid_area": null,
            "grid_auto_columns": null,
            "grid_auto_flow": null,
            "grid_auto_rows": null,
            "grid_column": null,
            "grid_gap": null,
            "grid_row": null,
            "grid_template_areas": null,
            "grid_template_columns": null,
            "grid_template_rows": null,
            "height": null,
            "justify_content": null,
            "justify_items": null,
            "left": null,
            "margin": null,
            "max_height": null,
            "max_width": null,
            "min_height": null,
            "min_width": null,
            "object_fit": null,
            "object_position": null,
            "order": null,
            "overflow": null,
            "overflow_x": null,
            "overflow_y": null,
            "padding": null,
            "right": null,
            "top": null,
            "visibility": null,
            "width": null
          }
        },
        "1eefd72c74b248ddaa6f6be393f1ff6c": {
          "model_module": "@jupyter-widgets/controls",
          "model_module_version": "1.5.0",
          "model_name": "ProgressStyleModel",
          "state": {
            "_model_module": "@jupyter-widgets/controls",
            "_model_module_version": "1.5.0",
            "_model_name": "ProgressStyleModel",
            "_view_count": null,
            "_view_module": "@jupyter-widgets/base",
            "_view_module_version": "1.2.0",
            "_view_name": "StyleView",
            "bar_color": null,
            "description_width": ""
          }
        },
        "218ffa9668034454a96a309beea74755": {
          "model_module": "@jupyter-widgets/base",
          "model_module_version": "1.2.0",
          "model_name": "LayoutModel",
          "state": {
            "_model_module": "@jupyter-widgets/base",
            "_model_module_version": "1.2.0",
            "_model_name": "LayoutModel",
            "_view_count": null,
            "_view_module": "@jupyter-widgets/base",
            "_view_module_version": "1.2.0",
            "_view_name": "LayoutView",
            "align_content": null,
            "align_items": null,
            "align_self": null,
            "border": null,
            "bottom": null,
            "display": null,
            "flex": null,
            "flex_flow": null,
            "grid_area": null,
            "grid_auto_columns": null,
            "grid_auto_flow": null,
            "grid_auto_rows": null,
            "grid_column": null,
            "grid_gap": null,
            "grid_row": null,
            "grid_template_areas": null,
            "grid_template_columns": null,
            "grid_template_rows": null,
            "height": null,
            "justify_content": null,
            "justify_items": null,
            "left": null,
            "margin": null,
            "max_height": null,
            "max_width": null,
            "min_height": null,
            "min_width": null,
            "object_fit": null,
            "object_position": null,
            "order": null,
            "overflow": null,
            "overflow_x": null,
            "overflow_y": null,
            "padding": null,
            "right": null,
            "top": null,
            "visibility": null,
            "width": null
          }
        },
        "23d15c07b8d84d4095f5960224a7f7e8": {
          "model_module": "@jupyter-widgets/controls",
          "model_module_version": "1.5.0",
          "model_name": "ProgressStyleModel",
          "state": {
            "_model_module": "@jupyter-widgets/controls",
            "_model_module_version": "1.5.0",
            "_model_name": "ProgressStyleModel",
            "_view_count": null,
            "_view_module": "@jupyter-widgets/base",
            "_view_module_version": "1.2.0",
            "_view_name": "StyleView",
            "bar_color": null,
            "description_width": ""
          }
        },
        "2417f8e3426e498c8375e0034163208c": {
          "model_module": "@jupyter-widgets/controls",
          "model_module_version": "1.5.0",
          "model_name": "DescriptionStyleModel",
          "state": {
            "_model_module": "@jupyter-widgets/controls",
            "_model_module_version": "1.5.0",
            "_model_name": "DescriptionStyleModel",
            "_view_count": null,
            "_view_module": "@jupyter-widgets/base",
            "_view_module_version": "1.2.0",
            "_view_name": "StyleView",
            "description_width": ""
          }
        },
        "275343981185479d8a8c89cf768414f2": {
          "model_module": "@jupyter-widgets/base",
          "model_module_version": "1.2.0",
          "model_name": "LayoutModel",
          "state": {
            "_model_module": "@jupyter-widgets/base",
            "_model_module_version": "1.2.0",
            "_model_name": "LayoutModel",
            "_view_count": null,
            "_view_module": "@jupyter-widgets/base",
            "_view_module_version": "1.2.0",
            "_view_name": "LayoutView",
            "align_content": null,
            "align_items": null,
            "align_self": null,
            "border": null,
            "bottom": null,
            "display": null,
            "flex": null,
            "flex_flow": null,
            "grid_area": null,
            "grid_auto_columns": null,
            "grid_auto_flow": null,
            "grid_auto_rows": null,
            "grid_column": null,
            "grid_gap": null,
            "grid_row": null,
            "grid_template_areas": null,
            "grid_template_columns": null,
            "grid_template_rows": null,
            "height": null,
            "justify_content": null,
            "justify_items": null,
            "left": null,
            "margin": null,
            "max_height": null,
            "max_width": null,
            "min_height": null,
            "min_width": null,
            "object_fit": null,
            "object_position": null,
            "order": null,
            "overflow": null,
            "overflow_x": null,
            "overflow_y": null,
            "padding": null,
            "right": null,
            "top": null,
            "visibility": null,
            "width": null
          }
        },
        "2e0b206e371944b381e94eb0a9df0b6e": {
          "model_module": "@jupyter-widgets/controls",
          "model_module_version": "1.5.0",
          "model_name": "HTMLModel",
          "state": {
            "_dom_classes": [],
            "_model_module": "@jupyter-widgets/controls",
            "_model_module_version": "1.5.0",
            "_model_name": "HTMLModel",
            "_view_count": null,
            "_view_module": "@jupyter-widgets/controls",
            "_view_module_version": "1.5.0",
            "_view_name": "HTMLView",
            "description": "",
            "description_tooltip": null,
            "layout": "IPY_MODEL_81a73faffcb54d5499656165ee411dd6",
            "placeholder": "​",
            "style": "IPY_MODEL_7a12d5ee20ed4c9dbff78902117fc8f5",
            "value": "Downloading: 100%"
          }
        },
        "2ea85e089780424b9f3afa405944a4fd": {
          "model_module": "@jupyter-widgets/controls",
          "model_module_version": "1.5.0",
          "model_name": "HTMLModel",
          "state": {
            "_dom_classes": [],
            "_model_module": "@jupyter-widgets/controls",
            "_model_module_version": "1.5.0",
            "_model_name": "HTMLModel",
            "_view_count": null,
            "_view_module": "@jupyter-widgets/controls",
            "_view_module_version": "1.5.0",
            "_view_name": "HTMLView",
            "description": "",
            "description_tooltip": null,
            "layout": "IPY_MODEL_764755ab3776498887637371ed4b0dcd",
            "placeholder": "​",
            "style": "IPY_MODEL_4b7a7ef82f774c1aa54ea20e11c91395",
            "value": " 570/570 [00:00&lt;00:00, 9.89kB/s]"
          }
        },
        "2f65c85932614dc195e33e461b770463": {
          "model_module": "@jupyter-widgets/controls",
          "model_module_version": "1.5.0",
          "model_name": "HTMLModel",
          "state": {
            "_dom_classes": [],
            "_model_module": "@jupyter-widgets/controls",
            "_model_module_version": "1.5.0",
            "_model_name": "HTMLModel",
            "_view_count": null,
            "_view_module": "@jupyter-widgets/controls",
            "_view_module_version": "1.5.0",
            "_view_name": "HTMLView",
            "description": "",
            "description_tooltip": null,
            "layout": "IPY_MODEL_852c295691824a81984522c7bdf6752c",
            "placeholder": "​",
            "style": "IPY_MODEL_3d559f16955b447eb0f632ea55e91659",
            "value": " 29.0/29.0 [00:00&lt;00:00, 669B/s]"
          }
        },
        "31bcc52334b14395b885f602f9135cc7": {
          "model_module": "@jupyter-widgets/controls",
          "model_module_version": "1.5.0",
          "model_name": "FloatProgressModel",
          "state": {
            "_dom_classes": [],
            "_model_module": "@jupyter-widgets/controls",
            "_model_module_version": "1.5.0",
            "_model_name": "FloatProgressModel",
            "_view_count": null,
            "_view_module": "@jupyter-widgets/controls",
            "_view_module_version": "1.5.0",
            "_view_name": "ProgressView",
            "bar_style": "success",
            "description": "",
            "description_tooltip": null,
            "layout": "IPY_MODEL_218ffa9668034454a96a309beea74755",
            "max": 570,
            "min": 0,
            "orientation": "horizontal",
            "style": "IPY_MODEL_cfb9b98f6677468ea922690fbd349ac0",
            "value": 570
          }
        },
        "34c1a03943414025a60f251cca9693b3": {
          "model_module": "@jupyter-widgets/controls",
          "model_module_version": "1.5.0",
          "model_name": "FloatProgressModel",
          "state": {
            "_dom_classes": [],
            "_model_module": "@jupyter-widgets/controls",
            "_model_module_version": "1.5.0",
            "_model_name": "FloatProgressModel",
            "_view_count": null,
            "_view_module": "@jupyter-widgets/controls",
            "_view_module_version": "1.5.0",
            "_view_name": "ProgressView",
            "bar_style": "success",
            "description": "",
            "description_tooltip": null,
            "layout": "IPY_MODEL_ac74dbf5c1b346c58b27d0fe2f65ae2d",
            "max": 29,
            "min": 0,
            "orientation": "horizontal",
            "style": "IPY_MODEL_bf26573eccbe4bae9f62bdf34b37ac29",
            "value": 29
          }
        },
        "3531baa29a7a49cb9d3d4f58a2f547f0": {
          "model_module": "@jupyter-widgets/controls",
          "model_module_version": "1.5.0",
          "model_name": "HTMLModel",
          "state": {
            "_dom_classes": [],
            "_model_module": "@jupyter-widgets/controls",
            "_model_module_version": "1.5.0",
            "_model_name": "HTMLModel",
            "_view_count": null,
            "_view_module": "@jupyter-widgets/controls",
            "_view_module_version": "1.5.0",
            "_view_name": "HTMLView",
            "description": "",
            "description_tooltip": null,
            "layout": "IPY_MODEL_69e34dfbd09546a88d9af62ac468b1d7",
            "placeholder": "​",
            "style": "IPY_MODEL_8ad05ebbab56425b8b4cabbd075106d0",
            "value": "Downloading: 100%"
          }
        },
        "37fd1e385d3542ac8d394fba82100d77": {
          "model_module": "@jupyter-widgets/controls",
          "model_module_version": "1.5.0",
          "model_name": "HTMLModel",
          "state": {
            "_dom_classes": [],
            "_model_module": "@jupyter-widgets/controls",
            "_model_module_version": "1.5.0",
            "_model_name": "HTMLModel",
            "_view_count": null,
            "_view_module": "@jupyter-widgets/controls",
            "_view_module_version": "1.5.0",
            "_view_name": "HTMLView",
            "description": "",
            "description_tooltip": null,
            "layout": "IPY_MODEL_c69a9b82f38944a28a362b1f17b332e6",
            "placeholder": "​",
            "style": "IPY_MODEL_ae620e4ae2e14991b94d071b4cd2c429",
            "value": " 208k/208k [00:00&lt;00:00, 724kB/s]"
          }
        },
        "3d559f16955b447eb0f632ea55e91659": {
          "model_module": "@jupyter-widgets/controls",
          "model_module_version": "1.5.0",
          "model_name": "DescriptionStyleModel",
          "state": {
            "_model_module": "@jupyter-widgets/controls",
            "_model_module_version": "1.5.0",
            "_model_name": "DescriptionStyleModel",
            "_view_count": null,
            "_view_module": "@jupyter-widgets/base",
            "_view_module_version": "1.2.0",
            "_view_name": "StyleView",
            "description_width": ""
          }
        },
        "3f43e399353f4942bd1351f145ee640f": {
          "model_module": "@jupyter-widgets/controls",
          "model_module_version": "1.5.0",
          "model_name": "DescriptionStyleModel",
          "state": {
            "_model_module": "@jupyter-widgets/controls",
            "_model_module_version": "1.5.0",
            "_model_name": "DescriptionStyleModel",
            "_view_count": null,
            "_view_module": "@jupyter-widgets/base",
            "_view_module_version": "1.2.0",
            "_view_name": "StyleView",
            "description_width": ""
          }
        },
        "41a6c0ccb1f6465787408feb207e9e05": {
          "model_module": "@jupyter-widgets/base",
          "model_module_version": "1.2.0",
          "model_name": "LayoutModel",
          "state": {
            "_model_module": "@jupyter-widgets/base",
            "_model_module_version": "1.2.0",
            "_model_name": "LayoutModel",
            "_view_count": null,
            "_view_module": "@jupyter-widgets/base",
            "_view_module_version": "1.2.0",
            "_view_name": "LayoutView",
            "align_content": null,
            "align_items": null,
            "align_self": null,
            "border": null,
            "bottom": null,
            "display": null,
            "flex": null,
            "flex_flow": null,
            "grid_area": null,
            "grid_auto_columns": null,
            "grid_auto_flow": null,
            "grid_auto_rows": null,
            "grid_column": null,
            "grid_gap": null,
            "grid_row": null,
            "grid_template_areas": null,
            "grid_template_columns": null,
            "grid_template_rows": null,
            "height": null,
            "justify_content": null,
            "justify_items": null,
            "left": null,
            "margin": null,
            "max_height": null,
            "max_width": null,
            "min_height": null,
            "min_width": null,
            "object_fit": null,
            "object_position": null,
            "order": null,
            "overflow": null,
            "overflow_x": null,
            "overflow_y": null,
            "padding": null,
            "right": null,
            "top": null,
            "visibility": null,
            "width": null
          }
        },
        "44600addc443430ca486c271b6435f63": {
          "model_module": "@jupyter-widgets/base",
          "model_module_version": "1.2.0",
          "model_name": "LayoutModel",
          "state": {
            "_model_module": "@jupyter-widgets/base",
            "_model_module_version": "1.2.0",
            "_model_name": "LayoutModel",
            "_view_count": null,
            "_view_module": "@jupyter-widgets/base",
            "_view_module_version": "1.2.0",
            "_view_name": "LayoutView",
            "align_content": null,
            "align_items": null,
            "align_self": null,
            "border": null,
            "bottom": null,
            "display": null,
            "flex": null,
            "flex_flow": null,
            "grid_area": null,
            "grid_auto_columns": null,
            "grid_auto_flow": null,
            "grid_auto_rows": null,
            "grid_column": null,
            "grid_gap": null,
            "grid_row": null,
            "grid_template_areas": null,
            "grid_template_columns": null,
            "grid_template_rows": null,
            "height": null,
            "justify_content": null,
            "justify_items": null,
            "left": null,
            "margin": null,
            "max_height": null,
            "max_width": null,
            "min_height": null,
            "min_width": null,
            "object_fit": null,
            "object_position": null,
            "order": null,
            "overflow": null,
            "overflow_x": null,
            "overflow_y": null,
            "padding": null,
            "right": null,
            "top": null,
            "visibility": null,
            "width": null
          }
        },
        "47322adf7ac04f019fe505c4037c822d": {
          "model_module": "@jupyter-widgets/base",
          "model_module_version": "1.2.0",
          "model_name": "LayoutModel",
          "state": {
            "_model_module": "@jupyter-widgets/base",
            "_model_module_version": "1.2.0",
            "_model_name": "LayoutModel",
            "_view_count": null,
            "_view_module": "@jupyter-widgets/base",
            "_view_module_version": "1.2.0",
            "_view_name": "LayoutView",
            "align_content": null,
            "align_items": null,
            "align_self": null,
            "border": null,
            "bottom": null,
            "display": null,
            "flex": null,
            "flex_flow": null,
            "grid_area": null,
            "grid_auto_columns": null,
            "grid_auto_flow": null,
            "grid_auto_rows": null,
            "grid_column": null,
            "grid_gap": null,
            "grid_row": null,
            "grid_template_areas": null,
            "grid_template_columns": null,
            "grid_template_rows": null,
            "height": null,
            "justify_content": null,
            "justify_items": null,
            "left": null,
            "margin": null,
            "max_height": null,
            "max_width": null,
            "min_height": null,
            "min_width": null,
            "object_fit": null,
            "object_position": null,
            "order": null,
            "overflow": null,
            "overflow_x": null,
            "overflow_y": null,
            "padding": null,
            "right": null,
            "top": null,
            "visibility": null,
            "width": null
          }
        },
        "47bf7ead7aaf44b7b95a32f6cbbb8d62": {
          "model_module": "@jupyter-widgets/controls",
          "model_module_version": "1.5.0",
          "model_name": "HTMLModel",
          "state": {
            "_dom_classes": [],
            "_model_module": "@jupyter-widgets/controls",
            "_model_module_version": "1.5.0",
            "_model_name": "HTMLModel",
            "_view_count": null,
            "_view_module": "@jupyter-widgets/controls",
            "_view_module_version": "1.5.0",
            "_view_name": "HTMLView",
            "description": "",
            "description_tooltip": null,
            "layout": "IPY_MODEL_1cb47933fa664a22ac9a47803066b4fc",
            "placeholder": "​",
            "style": "IPY_MODEL_2417f8e3426e498c8375e0034163208c",
            "value": "Downloading: 100%"
          }
        },
        "4a0da44d6bd14cb19e33ae71498e93f9": {
          "model_module": "@jupyter-widgets/controls",
          "model_module_version": "1.5.0",
          "model_name": "HBoxModel",
          "state": {
            "_dom_classes": [],
            "_model_module": "@jupyter-widgets/controls",
            "_model_module_version": "1.5.0",
            "_model_name": "HBoxModel",
            "_view_count": null,
            "_view_module": "@jupyter-widgets/controls",
            "_view_module_version": "1.5.0",
            "_view_name": "HBoxView",
            "box_style": "",
            "children": [
              "IPY_MODEL_2e0b206e371944b381e94eb0a9df0b6e",
              "IPY_MODEL_31bcc52334b14395b885f602f9135cc7",
              "IPY_MODEL_2ea85e089780424b9f3afa405944a4fd"
            ],
            "layout": "IPY_MODEL_e08963fb3cbd4f0abe9f08bce01e916c"
          }
        },
        "4b7a7ef82f774c1aa54ea20e11c91395": {
          "model_module": "@jupyter-widgets/controls",
          "model_module_version": "1.5.0",
          "model_name": "DescriptionStyleModel",
          "state": {
            "_model_module": "@jupyter-widgets/controls",
            "_model_module_version": "1.5.0",
            "_model_name": "DescriptionStyleModel",
            "_view_count": null,
            "_view_module": "@jupyter-widgets/base",
            "_view_module_version": "1.2.0",
            "_view_name": "StyleView",
            "description_width": ""
          }
        },
        "512f1050e89546fca79daff6d4f9aa53": {
          "model_module": "@jupyter-widgets/base",
          "model_module_version": "1.2.0",
          "model_name": "LayoutModel",
          "state": {
            "_model_module": "@jupyter-widgets/base",
            "_model_module_version": "1.2.0",
            "_model_name": "LayoutModel",
            "_view_count": null,
            "_view_module": "@jupyter-widgets/base",
            "_view_module_version": "1.2.0",
            "_view_name": "LayoutView",
            "align_content": null,
            "align_items": null,
            "align_self": null,
            "border": null,
            "bottom": null,
            "display": null,
            "flex": null,
            "flex_flow": null,
            "grid_area": null,
            "grid_auto_columns": null,
            "grid_auto_flow": null,
            "grid_auto_rows": null,
            "grid_column": null,
            "grid_gap": null,
            "grid_row": null,
            "grid_template_areas": null,
            "grid_template_columns": null,
            "grid_template_rows": null,
            "height": null,
            "justify_content": null,
            "justify_items": null,
            "left": null,
            "margin": null,
            "max_height": null,
            "max_width": null,
            "min_height": null,
            "min_width": null,
            "object_fit": null,
            "object_position": null,
            "order": null,
            "overflow": null,
            "overflow_x": null,
            "overflow_y": null,
            "padding": null,
            "right": null,
            "top": null,
            "visibility": null,
            "width": null
          }
        },
        "555e280336bf4c58a1ba748e6c6a52c5": {
          "model_module": "@jupyter-widgets/base",
          "model_module_version": "1.2.0",
          "model_name": "LayoutModel",
          "state": {
            "_model_module": "@jupyter-widgets/base",
            "_model_module_version": "1.2.0",
            "_model_name": "LayoutModel",
            "_view_count": null,
            "_view_module": "@jupyter-widgets/base",
            "_view_module_version": "1.2.0",
            "_view_name": "LayoutView",
            "align_content": null,
            "align_items": null,
            "align_self": null,
            "border": null,
            "bottom": null,
            "display": null,
            "flex": null,
            "flex_flow": null,
            "grid_area": null,
            "grid_auto_columns": null,
            "grid_auto_flow": null,
            "grid_auto_rows": null,
            "grid_column": null,
            "grid_gap": null,
            "grid_row": null,
            "grid_template_areas": null,
            "grid_template_columns": null,
            "grid_template_rows": null,
            "height": null,
            "justify_content": null,
            "justify_items": null,
            "left": null,
            "margin": null,
            "max_height": null,
            "max_width": null,
            "min_height": null,
            "min_width": null,
            "object_fit": null,
            "object_position": null,
            "order": null,
            "overflow": null,
            "overflow_x": null,
            "overflow_y": null,
            "padding": null,
            "right": null,
            "top": null,
            "visibility": null,
            "width": null
          }
        },
        "5e84b7316cd84c238935b5ef7cd066a3": {
          "model_module": "@jupyter-widgets/controls",
          "model_module_version": "1.5.0",
          "model_name": "HBoxModel",
          "state": {
            "_dom_classes": [],
            "_model_module": "@jupyter-widgets/controls",
            "_model_module_version": "1.5.0",
            "_model_name": "HBoxModel",
            "_view_count": null,
            "_view_module": "@jupyter-widgets/controls",
            "_view_module_version": "1.5.0",
            "_view_name": "HBoxView",
            "box_style": "",
            "children": [
              "IPY_MODEL_47bf7ead7aaf44b7b95a32f6cbbb8d62",
              "IPY_MODEL_a04f4c7a3e2147d1852f1a739b0cdbdc",
              "IPY_MODEL_cdd17218045f435d9ff12650402279bf"
            ],
            "layout": "IPY_MODEL_47322adf7ac04f019fe505c4037c822d"
          }
        },
        "69e34dfbd09546a88d9af62ac468b1d7": {
          "model_module": "@jupyter-widgets/base",
          "model_module_version": "1.2.0",
          "model_name": "LayoutModel",
          "state": {
            "_model_module": "@jupyter-widgets/base",
            "_model_module_version": "1.2.0",
            "_model_name": "LayoutModel",
            "_view_count": null,
            "_view_module": "@jupyter-widgets/base",
            "_view_module_version": "1.2.0",
            "_view_name": "LayoutView",
            "align_content": null,
            "align_items": null,
            "align_self": null,
            "border": null,
            "bottom": null,
            "display": null,
            "flex": null,
            "flex_flow": null,
            "grid_area": null,
            "grid_auto_columns": null,
            "grid_auto_flow": null,
            "grid_auto_rows": null,
            "grid_column": null,
            "grid_gap": null,
            "grid_row": null,
            "grid_template_areas": null,
            "grid_template_columns": null,
            "grid_template_rows": null,
            "height": null,
            "justify_content": null,
            "justify_items": null,
            "left": null,
            "margin": null,
            "max_height": null,
            "max_width": null,
            "min_height": null,
            "min_width": null,
            "object_fit": null,
            "object_position": null,
            "order": null,
            "overflow": null,
            "overflow_x": null,
            "overflow_y": null,
            "padding": null,
            "right": null,
            "top": null,
            "visibility": null,
            "width": null
          }
        },
        "70008340506c4f31ae50fb6cfeab4b27": {
          "model_module": "@jupyter-widgets/controls",
          "model_module_version": "1.5.0",
          "model_name": "FloatProgressModel",
          "state": {
            "_dom_classes": [],
            "_model_module": "@jupyter-widgets/controls",
            "_model_module_version": "1.5.0",
            "_model_name": "FloatProgressModel",
            "_view_count": null,
            "_view_module": "@jupyter-widgets/controls",
            "_view_module_version": "1.5.0",
            "_view_name": "ProgressView",
            "bar_style": "success",
            "description": "",
            "description_tooltip": null,
            "layout": "IPY_MODEL_555e280336bf4c58a1ba748e6c6a52c5",
            "max": 213450,
            "min": 0,
            "orientation": "horizontal",
            "style": "IPY_MODEL_1eefd72c74b248ddaa6f6be393f1ff6c",
            "value": 213450
          }
        },
        "764755ab3776498887637371ed4b0dcd": {
          "model_module": "@jupyter-widgets/base",
          "model_module_version": "1.2.0",
          "model_name": "LayoutModel",
          "state": {
            "_model_module": "@jupyter-widgets/base",
            "_model_module_version": "1.2.0",
            "_model_name": "LayoutModel",
            "_view_count": null,
            "_view_module": "@jupyter-widgets/base",
            "_view_module_version": "1.2.0",
            "_view_name": "LayoutView",
            "align_content": null,
            "align_items": null,
            "align_self": null,
            "border": null,
            "bottom": null,
            "display": null,
            "flex": null,
            "flex_flow": null,
            "grid_area": null,
            "grid_auto_columns": null,
            "grid_auto_flow": null,
            "grid_auto_rows": null,
            "grid_column": null,
            "grid_gap": null,
            "grid_row": null,
            "grid_template_areas": null,
            "grid_template_columns": null,
            "grid_template_rows": null,
            "height": null,
            "justify_content": null,
            "justify_items": null,
            "left": null,
            "margin": null,
            "max_height": null,
            "max_width": null,
            "min_height": null,
            "min_width": null,
            "object_fit": null,
            "object_position": null,
            "order": null,
            "overflow": null,
            "overflow_x": null,
            "overflow_y": null,
            "padding": null,
            "right": null,
            "top": null,
            "visibility": null,
            "width": null
          }
        },
        "785afaee644842e4acb32b6a14475af2": {
          "model_module": "@jupyter-widgets/controls",
          "model_module_version": "1.5.0",
          "model_name": "HBoxModel",
          "state": {
            "_dom_classes": [],
            "_model_module": "@jupyter-widgets/controls",
            "_model_module_version": "1.5.0",
            "_model_name": "HBoxModel",
            "_view_count": null,
            "_view_module": "@jupyter-widgets/controls",
            "_view_module_version": "1.5.0",
            "_view_name": "HBoxView",
            "box_style": "",
            "children": [
              "IPY_MODEL_3531baa29a7a49cb9d3d4f58a2f547f0",
              "IPY_MODEL_70008340506c4f31ae50fb6cfeab4b27",
              "IPY_MODEL_37fd1e385d3542ac8d394fba82100d77"
            ],
            "layout": "IPY_MODEL_275343981185479d8a8c89cf768414f2"
          }
        },
        "7a12d5ee20ed4c9dbff78902117fc8f5": {
          "model_module": "@jupyter-widgets/controls",
          "model_module_version": "1.5.0",
          "model_name": "DescriptionStyleModel",
          "state": {
            "_model_module": "@jupyter-widgets/controls",
            "_model_module_version": "1.5.0",
            "_model_name": "DescriptionStyleModel",
            "_view_count": null,
            "_view_module": "@jupyter-widgets/base",
            "_view_module_version": "1.2.0",
            "_view_name": "StyleView",
            "description_width": ""
          }
        },
        "81587ce8bde04c42962034a2c167be7f": {
          "model_module": "@jupyter-widgets/controls",
          "model_module_version": "1.5.0",
          "model_name": "ProgressStyleModel",
          "state": {
            "_model_module": "@jupyter-widgets/controls",
            "_model_module_version": "1.5.0",
            "_model_name": "ProgressStyleModel",
            "_view_count": null,
            "_view_module": "@jupyter-widgets/base",
            "_view_module_version": "1.2.0",
            "_view_name": "StyleView",
            "bar_color": null,
            "description_width": ""
          }
        },
        "81a73faffcb54d5499656165ee411dd6": {
          "model_module": "@jupyter-widgets/base",
          "model_module_version": "1.2.0",
          "model_name": "LayoutModel",
          "state": {
            "_model_module": "@jupyter-widgets/base",
            "_model_module_version": "1.2.0",
            "_model_name": "LayoutModel",
            "_view_count": null,
            "_view_module": "@jupyter-widgets/base",
            "_view_module_version": "1.2.0",
            "_view_name": "LayoutView",
            "align_content": null,
            "align_items": null,
            "align_self": null,
            "border": null,
            "bottom": null,
            "display": null,
            "flex": null,
            "flex_flow": null,
            "grid_area": null,
            "grid_auto_columns": null,
            "grid_auto_flow": null,
            "grid_auto_rows": null,
            "grid_column": null,
            "grid_gap": null,
            "grid_row": null,
            "grid_template_areas": null,
            "grid_template_columns": null,
            "grid_template_rows": null,
            "height": null,
            "justify_content": null,
            "justify_items": null,
            "left": null,
            "margin": null,
            "max_height": null,
            "max_width": null,
            "min_height": null,
            "min_width": null,
            "object_fit": null,
            "object_position": null,
            "order": null,
            "overflow": null,
            "overflow_x": null,
            "overflow_y": null,
            "padding": null,
            "right": null,
            "top": null,
            "visibility": null,
            "width": null
          }
        },
        "852c295691824a81984522c7bdf6752c": {
          "model_module": "@jupyter-widgets/base",
          "model_module_version": "1.2.0",
          "model_name": "LayoutModel",
          "state": {
            "_model_module": "@jupyter-widgets/base",
            "_model_module_version": "1.2.0",
            "_model_name": "LayoutModel",
            "_view_count": null,
            "_view_module": "@jupyter-widgets/base",
            "_view_module_version": "1.2.0",
            "_view_name": "LayoutView",
            "align_content": null,
            "align_items": null,
            "align_self": null,
            "border": null,
            "bottom": null,
            "display": null,
            "flex": null,
            "flex_flow": null,
            "grid_area": null,
            "grid_auto_columns": null,
            "grid_auto_flow": null,
            "grid_auto_rows": null,
            "grid_column": null,
            "grid_gap": null,
            "grid_row": null,
            "grid_template_areas": null,
            "grid_template_columns": null,
            "grid_template_rows": null,
            "height": null,
            "justify_content": null,
            "justify_items": null,
            "left": null,
            "margin": null,
            "max_height": null,
            "max_width": null,
            "min_height": null,
            "min_width": null,
            "object_fit": null,
            "object_position": null,
            "order": null,
            "overflow": null,
            "overflow_x": null,
            "overflow_y": null,
            "padding": null,
            "right": null,
            "top": null,
            "visibility": null,
            "width": null
          }
        },
        "8772055791244f3ea648cc5cf5823db1": {
          "model_module": "@jupyter-widgets/controls",
          "model_module_version": "1.5.0",
          "model_name": "DescriptionStyleModel",
          "state": {
            "_model_module": "@jupyter-widgets/controls",
            "_model_module_version": "1.5.0",
            "_model_name": "DescriptionStyleModel",
            "_view_count": null,
            "_view_module": "@jupyter-widgets/base",
            "_view_module_version": "1.2.0",
            "_view_name": "StyleView",
            "description_width": ""
          }
        },
        "88a468b8da27472fb10f821f04aa6fd1": {
          "model_module": "@jupyter-widgets/base",
          "model_module_version": "1.2.0",
          "model_name": "LayoutModel",
          "state": {
            "_model_module": "@jupyter-widgets/base",
            "_model_module_version": "1.2.0",
            "_model_name": "LayoutModel",
            "_view_count": null,
            "_view_module": "@jupyter-widgets/base",
            "_view_module_version": "1.2.0",
            "_view_name": "LayoutView",
            "align_content": null,
            "align_items": null,
            "align_self": null,
            "border": null,
            "bottom": null,
            "display": null,
            "flex": null,
            "flex_flow": null,
            "grid_area": null,
            "grid_auto_columns": null,
            "grid_auto_flow": null,
            "grid_auto_rows": null,
            "grid_column": null,
            "grid_gap": null,
            "grid_row": null,
            "grid_template_areas": null,
            "grid_template_columns": null,
            "grid_template_rows": null,
            "height": null,
            "justify_content": null,
            "justify_items": null,
            "left": null,
            "margin": null,
            "max_height": null,
            "max_width": null,
            "min_height": null,
            "min_width": null,
            "object_fit": null,
            "object_position": null,
            "order": null,
            "overflow": null,
            "overflow_x": null,
            "overflow_y": null,
            "padding": null,
            "right": null,
            "top": null,
            "visibility": null,
            "width": null
          }
        },
        "8ad05ebbab56425b8b4cabbd075106d0": {
          "model_module": "@jupyter-widgets/controls",
          "model_module_version": "1.5.0",
          "model_name": "DescriptionStyleModel",
          "state": {
            "_model_module": "@jupyter-widgets/controls",
            "_model_module_version": "1.5.0",
            "_model_name": "DescriptionStyleModel",
            "_view_count": null,
            "_view_module": "@jupyter-widgets/base",
            "_view_module_version": "1.2.0",
            "_view_name": "StyleView",
            "description_width": ""
          }
        },
        "90be21114c194e29bad8d77fb517fa7c": {
          "model_module": "@jupyter-widgets/base",
          "model_module_version": "1.2.0",
          "model_name": "LayoutModel",
          "state": {
            "_model_module": "@jupyter-widgets/base",
            "_model_module_version": "1.2.0",
            "_model_name": "LayoutModel",
            "_view_count": null,
            "_view_module": "@jupyter-widgets/base",
            "_view_module_version": "1.2.0",
            "_view_name": "LayoutView",
            "align_content": null,
            "align_items": null,
            "align_self": null,
            "border": null,
            "bottom": null,
            "display": null,
            "flex": null,
            "flex_flow": null,
            "grid_area": null,
            "grid_auto_columns": null,
            "grid_auto_flow": null,
            "grid_auto_rows": null,
            "grid_column": null,
            "grid_gap": null,
            "grid_row": null,
            "grid_template_areas": null,
            "grid_template_columns": null,
            "grid_template_rows": null,
            "height": null,
            "justify_content": null,
            "justify_items": null,
            "left": null,
            "margin": null,
            "max_height": null,
            "max_width": null,
            "min_height": null,
            "min_width": null,
            "object_fit": null,
            "object_position": null,
            "order": null,
            "overflow": null,
            "overflow_x": null,
            "overflow_y": null,
            "padding": null,
            "right": null,
            "top": null,
            "visibility": null,
            "width": null
          }
        },
        "94f62c621c82479e891f73f861801f11": {
          "model_module": "@jupyter-widgets/controls",
          "model_module_version": "1.5.0",
          "model_name": "HBoxModel",
          "state": {
            "_dom_classes": [],
            "_model_module": "@jupyter-widgets/controls",
            "_model_module_version": "1.5.0",
            "_model_name": "HBoxModel",
            "_view_count": null,
            "_view_module": "@jupyter-widgets/controls",
            "_view_module_version": "1.5.0",
            "_view_name": "HBoxView",
            "box_style": "",
            "children": [
              "IPY_MODEL_ec2494d463be4a14b492b779e8b51621",
              "IPY_MODEL_f7e2cd59ceaa400fa6a203c9bebc59e9",
              "IPY_MODEL_c52291fc43f94684b6ec3986dcda841f"
            ],
            "layout": "IPY_MODEL_a8ef53a563ea485ba93e6157a9cc99f6"
          }
        },
        "9c8d860eb95042028e082f897435fba5": {
          "model_module": "@jupyter-widgets/base",
          "model_module_version": "1.2.0",
          "model_name": "LayoutModel",
          "state": {
            "_model_module": "@jupyter-widgets/base",
            "_model_module_version": "1.2.0",
            "_model_name": "LayoutModel",
            "_view_count": null,
            "_view_module": "@jupyter-widgets/base",
            "_view_module_version": "1.2.0",
            "_view_name": "LayoutView",
            "align_content": null,
            "align_items": null,
            "align_self": null,
            "border": null,
            "bottom": null,
            "display": null,
            "flex": null,
            "flex_flow": null,
            "grid_area": null,
            "grid_auto_columns": null,
            "grid_auto_flow": null,
            "grid_auto_rows": null,
            "grid_column": null,
            "grid_gap": null,
            "grid_row": null,
            "grid_template_areas": null,
            "grid_template_columns": null,
            "grid_template_rows": null,
            "height": null,
            "justify_content": null,
            "justify_items": null,
            "left": null,
            "margin": null,
            "max_height": null,
            "max_width": null,
            "min_height": null,
            "min_width": null,
            "object_fit": null,
            "object_position": null,
            "order": null,
            "overflow": null,
            "overflow_x": null,
            "overflow_y": null,
            "padding": null,
            "right": null,
            "top": null,
            "visibility": null,
            "width": null
          }
        },
        "a04f4c7a3e2147d1852f1a739b0cdbdc": {
          "model_module": "@jupyter-widgets/controls",
          "model_module_version": "1.5.0",
          "model_name": "FloatProgressModel",
          "state": {
            "_dom_classes": [],
            "_model_module": "@jupyter-widgets/controls",
            "_model_module_version": "1.5.0",
            "_model_name": "FloatProgressModel",
            "_view_count": null,
            "_view_module": "@jupyter-widgets/controls",
            "_view_module_version": "1.5.0",
            "_view_name": "ProgressView",
            "bar_style": "success",
            "description": "",
            "description_tooltip": null,
            "layout": "IPY_MODEL_512f1050e89546fca79daff6d4f9aa53",
            "max": 435779157,
            "min": 0,
            "orientation": "horizontal",
            "style": "IPY_MODEL_23d15c07b8d84d4095f5960224a7f7e8",
            "value": 435779157
          }
        },
        "a8ef53a563ea485ba93e6157a9cc99f6": {
          "model_module": "@jupyter-widgets/base",
          "model_module_version": "1.2.0",
          "model_name": "LayoutModel",
          "state": {
            "_model_module": "@jupyter-widgets/base",
            "_model_module_version": "1.2.0",
            "_model_name": "LayoutModel",
            "_view_count": null,
            "_view_module": "@jupyter-widgets/base",
            "_view_module_version": "1.2.0",
            "_view_name": "LayoutView",
            "align_content": null,
            "align_items": null,
            "align_self": null,
            "border": null,
            "bottom": null,
            "display": null,
            "flex": null,
            "flex_flow": null,
            "grid_area": null,
            "grid_auto_columns": null,
            "grid_auto_flow": null,
            "grid_auto_rows": null,
            "grid_column": null,
            "grid_gap": null,
            "grid_row": null,
            "grid_template_areas": null,
            "grid_template_columns": null,
            "grid_template_rows": null,
            "height": null,
            "justify_content": null,
            "justify_items": null,
            "left": null,
            "margin": null,
            "max_height": null,
            "max_width": null,
            "min_height": null,
            "min_width": null,
            "object_fit": null,
            "object_position": null,
            "order": null,
            "overflow": null,
            "overflow_x": null,
            "overflow_y": null,
            "padding": null,
            "right": null,
            "top": null,
            "visibility": null,
            "width": null
          }
        },
        "ac74dbf5c1b346c58b27d0fe2f65ae2d": {
          "model_module": "@jupyter-widgets/base",
          "model_module_version": "1.2.0",
          "model_name": "LayoutModel",
          "state": {
            "_model_module": "@jupyter-widgets/base",
            "_model_module_version": "1.2.0",
            "_model_name": "LayoutModel",
            "_view_count": null,
            "_view_module": "@jupyter-widgets/base",
            "_view_module_version": "1.2.0",
            "_view_name": "LayoutView",
            "align_content": null,
            "align_items": null,
            "align_self": null,
            "border": null,
            "bottom": null,
            "display": null,
            "flex": null,
            "flex_flow": null,
            "grid_area": null,
            "grid_auto_columns": null,
            "grid_auto_flow": null,
            "grid_auto_rows": null,
            "grid_column": null,
            "grid_gap": null,
            "grid_row": null,
            "grid_template_areas": null,
            "grid_template_columns": null,
            "grid_template_rows": null,
            "height": null,
            "justify_content": null,
            "justify_items": null,
            "left": null,
            "margin": null,
            "max_height": null,
            "max_width": null,
            "min_height": null,
            "min_width": null,
            "object_fit": null,
            "object_position": null,
            "order": null,
            "overflow": null,
            "overflow_x": null,
            "overflow_y": null,
            "padding": null,
            "right": null,
            "top": null,
            "visibility": null,
            "width": null
          }
        },
        "ae620e4ae2e14991b94d071b4cd2c429": {
          "model_module": "@jupyter-widgets/controls",
          "model_module_version": "1.5.0",
          "model_name": "DescriptionStyleModel",
          "state": {
            "_model_module": "@jupyter-widgets/controls",
            "_model_module_version": "1.5.0",
            "_model_name": "DescriptionStyleModel",
            "_view_count": null,
            "_view_module": "@jupyter-widgets/base",
            "_view_module_version": "1.2.0",
            "_view_name": "StyleView",
            "description_width": ""
          }
        },
        "bf26573eccbe4bae9f62bdf34b37ac29": {
          "model_module": "@jupyter-widgets/controls",
          "model_module_version": "1.5.0",
          "model_name": "ProgressStyleModel",
          "state": {
            "_model_module": "@jupyter-widgets/controls",
            "_model_module_version": "1.5.0",
            "_model_name": "ProgressStyleModel",
            "_view_count": null,
            "_view_module": "@jupyter-widgets/base",
            "_view_module_version": "1.2.0",
            "_view_name": "StyleView",
            "bar_color": null,
            "description_width": ""
          }
        },
        "c0ef277f725b4318aa6731c2d5852bc1": {
          "model_module": "@jupyter-widgets/controls",
          "model_module_version": "1.5.0",
          "model_name": "HBoxModel",
          "state": {
            "_dom_classes": [],
            "_model_module": "@jupyter-widgets/controls",
            "_model_module_version": "1.5.0",
            "_model_name": "HBoxModel",
            "_view_count": null,
            "_view_module": "@jupyter-widgets/controls",
            "_view_module_version": "1.5.0",
            "_view_name": "HBoxView",
            "box_style": "",
            "children": [
              "IPY_MODEL_fc1067cf7046483184dec61224eabf42",
              "IPY_MODEL_34c1a03943414025a60f251cca9693b3",
              "IPY_MODEL_2f65c85932614dc195e33e461b770463"
            ],
            "layout": "IPY_MODEL_44600addc443430ca486c271b6435f63"
          }
        },
        "c52291fc43f94684b6ec3986dcda841f": {
          "model_module": "@jupyter-widgets/controls",
          "model_module_version": "1.5.0",
          "model_name": "HTMLModel",
          "state": {
            "_dom_classes": [],
            "_model_module": "@jupyter-widgets/controls",
            "_model_module_version": "1.5.0",
            "_model_name": "HTMLModel",
            "_view_count": null,
            "_view_module": "@jupyter-widgets/controls",
            "_view_module_version": "1.5.0",
            "_view_name": "HTMLView",
            "description": "",
            "description_tooltip": null,
            "layout": "IPY_MODEL_90be21114c194e29bad8d77fb517fa7c",
            "placeholder": "​",
            "style": "IPY_MODEL_dcf13e861aa64c3ba38ddac35c23cfd7",
            "value": " 426k/426k [00:00&lt;00:00, 661kB/s]"
          }
        },
        "c69a9b82f38944a28a362b1f17b332e6": {
          "model_module": "@jupyter-widgets/base",
          "model_module_version": "1.2.0",
          "model_name": "LayoutModel",
          "state": {
            "_model_module": "@jupyter-widgets/base",
            "_model_module_version": "1.2.0",
            "_model_name": "LayoutModel",
            "_view_count": null,
            "_view_module": "@jupyter-widgets/base",
            "_view_module_version": "1.2.0",
            "_view_name": "LayoutView",
            "align_content": null,
            "align_items": null,
            "align_self": null,
            "border": null,
            "bottom": null,
            "display": null,
            "flex": null,
            "flex_flow": null,
            "grid_area": null,
            "grid_auto_columns": null,
            "grid_auto_flow": null,
            "grid_auto_rows": null,
            "grid_column": null,
            "grid_gap": null,
            "grid_row": null,
            "grid_template_areas": null,
            "grid_template_columns": null,
            "grid_template_rows": null,
            "height": null,
            "justify_content": null,
            "justify_items": null,
            "left": null,
            "margin": null,
            "max_height": null,
            "max_width": null,
            "min_height": null,
            "min_width": null,
            "object_fit": null,
            "object_position": null,
            "order": null,
            "overflow": null,
            "overflow_x": null,
            "overflow_y": null,
            "padding": null,
            "right": null,
            "top": null,
            "visibility": null,
            "width": null
          }
        },
        "cdd17218045f435d9ff12650402279bf": {
          "model_module": "@jupyter-widgets/controls",
          "model_module_version": "1.5.0",
          "model_name": "HTMLModel",
          "state": {
            "_dom_classes": [],
            "_model_module": "@jupyter-widgets/controls",
            "_model_module_version": "1.5.0",
            "_model_name": "HTMLModel",
            "_view_count": null,
            "_view_module": "@jupyter-widgets/controls",
            "_view_module_version": "1.5.0",
            "_view_name": "HTMLView",
            "description": "",
            "description_tooltip": null,
            "layout": "IPY_MODEL_88a468b8da27472fb10f821f04aa6fd1",
            "placeholder": "​",
            "style": "IPY_MODEL_8772055791244f3ea648cc5cf5823db1",
            "value": " 416M/416M [00:22&lt;00:00, 27.2MB/s]"
          }
        },
        "cfb9b98f6677468ea922690fbd349ac0": {
          "model_module": "@jupyter-widgets/controls",
          "model_module_version": "1.5.0",
          "model_name": "ProgressStyleModel",
          "state": {
            "_model_module": "@jupyter-widgets/controls",
            "_model_module_version": "1.5.0",
            "_model_name": "ProgressStyleModel",
            "_view_count": null,
            "_view_module": "@jupyter-widgets/base",
            "_view_module_version": "1.2.0",
            "_view_name": "StyleView",
            "bar_color": null,
            "description_width": ""
          }
        },
        "dcf13e861aa64c3ba38ddac35c23cfd7": {
          "model_module": "@jupyter-widgets/controls",
          "model_module_version": "1.5.0",
          "model_name": "DescriptionStyleModel",
          "state": {
            "_model_module": "@jupyter-widgets/controls",
            "_model_module_version": "1.5.0",
            "_model_name": "DescriptionStyleModel",
            "_view_count": null,
            "_view_module": "@jupyter-widgets/base",
            "_view_module_version": "1.2.0",
            "_view_name": "StyleView",
            "description_width": ""
          }
        },
        "e08963fb3cbd4f0abe9f08bce01e916c": {
          "model_module": "@jupyter-widgets/base",
          "model_module_version": "1.2.0",
          "model_name": "LayoutModel",
          "state": {
            "_model_module": "@jupyter-widgets/base",
            "_model_module_version": "1.2.0",
            "_model_name": "LayoutModel",
            "_view_count": null,
            "_view_module": "@jupyter-widgets/base",
            "_view_module_version": "1.2.0",
            "_view_name": "LayoutView",
            "align_content": null,
            "align_items": null,
            "align_self": null,
            "border": null,
            "bottom": null,
            "display": null,
            "flex": null,
            "flex_flow": null,
            "grid_area": null,
            "grid_auto_columns": null,
            "grid_auto_flow": null,
            "grid_auto_rows": null,
            "grid_column": null,
            "grid_gap": null,
            "grid_row": null,
            "grid_template_areas": null,
            "grid_template_columns": null,
            "grid_template_rows": null,
            "height": null,
            "justify_content": null,
            "justify_items": null,
            "left": null,
            "margin": null,
            "max_height": null,
            "max_width": null,
            "min_height": null,
            "min_width": null,
            "object_fit": null,
            "object_position": null,
            "order": null,
            "overflow": null,
            "overflow_x": null,
            "overflow_y": null,
            "padding": null,
            "right": null,
            "top": null,
            "visibility": null,
            "width": null
          }
        },
        "eb23aaad894245959924b361da2b3157": {
          "model_module": "@jupyter-widgets/controls",
          "model_module_version": "1.5.0",
          "model_name": "DescriptionStyleModel",
          "state": {
            "_model_module": "@jupyter-widgets/controls",
            "_model_module_version": "1.5.0",
            "_model_name": "DescriptionStyleModel",
            "_view_count": null,
            "_view_module": "@jupyter-widgets/base",
            "_view_module_version": "1.2.0",
            "_view_name": "StyleView",
            "description_width": ""
          }
        },
        "ec2494d463be4a14b492b779e8b51621": {
          "model_module": "@jupyter-widgets/controls",
          "model_module_version": "1.5.0",
          "model_name": "HTMLModel",
          "state": {
            "_dom_classes": [],
            "_model_module": "@jupyter-widgets/controls",
            "_model_module_version": "1.5.0",
            "_model_name": "HTMLModel",
            "_view_count": null,
            "_view_module": "@jupyter-widgets/controls",
            "_view_module_version": "1.5.0",
            "_view_name": "HTMLView",
            "description": "",
            "description_tooltip": null,
            "layout": "IPY_MODEL_41a6c0ccb1f6465787408feb207e9e05",
            "placeholder": "​",
            "style": "IPY_MODEL_3f43e399353f4942bd1351f145ee640f",
            "value": "Downloading: 100%"
          }
        },
        "f7e2cd59ceaa400fa6a203c9bebc59e9": {
          "model_module": "@jupyter-widgets/controls",
          "model_module_version": "1.5.0",
          "model_name": "FloatProgressModel",
          "state": {
            "_dom_classes": [],
            "_model_module": "@jupyter-widgets/controls",
            "_model_module_version": "1.5.0",
            "_model_name": "FloatProgressModel",
            "_view_count": null,
            "_view_module": "@jupyter-widgets/controls",
            "_view_module_version": "1.5.0",
            "_view_name": "ProgressView",
            "bar_style": "success",
            "description": "",
            "description_tooltip": null,
            "layout": "IPY_MODEL_9c8d860eb95042028e082f897435fba5",
            "max": 435797,
            "min": 0,
            "orientation": "horizontal",
            "style": "IPY_MODEL_81587ce8bde04c42962034a2c167be7f",
            "value": 435797
          }
        },
        "fc1067cf7046483184dec61224eabf42": {
          "model_module": "@jupyter-widgets/controls",
          "model_module_version": "1.5.0",
          "model_name": "HTMLModel",
          "state": {
            "_dom_classes": [],
            "_model_module": "@jupyter-widgets/controls",
            "_model_module_version": "1.5.0",
            "_model_name": "HTMLModel",
            "_view_count": null,
            "_view_module": "@jupyter-widgets/controls",
            "_view_module_version": "1.5.0",
            "_view_name": "HTMLView",
            "description": "",
            "description_tooltip": null,
            "layout": "IPY_MODEL_045af614aeda4852bae44c599c4b26eb",
            "placeholder": "​",
            "style": "IPY_MODEL_eb23aaad894245959924b361da2b3157",
            "value": "Downloading: 100%"
          }
        }
      }
    }
  },
  "nbformat": 4,
  "nbformat_minor": 0
}